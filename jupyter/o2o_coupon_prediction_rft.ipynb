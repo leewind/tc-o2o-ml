{
 "cells": [
  {
   "cell_type": "code",
   "execution_count": 1,
   "metadata": {},
   "outputs": [],
   "source": [
    "import pandas as pd\n",
    "import numpy as np\n",
    "import math\n",
    "import logging\n",
    "from datetime import datetime\n",
    "\n",
    "from sklearn.model_selection import GridSearchCV\n",
    "from sklearn.impute import SimpleImputer\n",
    "from sklearn.preprocessing import OneHotEncoder, Normalizer, StandardScaler, MinMaxScaler\n",
    "from sklearn.decomposition import PCA\n",
    "from sklearn.pipeline import Pipeline, FeatureUnion\n",
    "from sklearn.base import BaseEstimator, TransformerMixin\n",
    "from sklearn.metrics import roc_curve, auc\n",
    "\n",
    "from mlxtend.preprocessing import DenseTransformer\n",
    "from mlxtend.feature_selection import ColumnSelector\n",
    "\n",
    "import xgboost as xgb\n",
    "\n",
    "from hyperopt import fmin, tpe, hp, STATUS_OK, Trials"
   ]
  },
  {
   "cell_type": "code",
   "execution_count": 2,
   "metadata": {},
   "outputs": [],
   "source": [
    "logger = logging.getLogger('ai')\n",
    "logging.basicConfig(level=logging.DEBUG,\n",
    "                    format='%(asctime)s  %(filename)s : %(levelname)s  %(message)s')"
   ]
  },
  {
   "cell_type": "markdown",
   "metadata": {},
   "source": [
    "## 模型"
   ]
  },
  {
   "cell_type": "code",
   "execution_count": 3,
   "metadata": {},
   "outputs": [],
   "source": [
    "df = pd.read_csv('../features/lcm_base_features.csv')\n",
    "user_features_df = pd.read_csv('../features/lcm_user_features.csv')\n",
    "merchant_features_df = pd.read_csv('../features/lcm_merchant_features.csv')\n",
    "coupon_features_df = pd.read_csv('../features/lcm_coupon_features.csv')\n",
    "\n",
    "model_train_df = df[df['Date_received'] < 20160501]\n",
    "model_test_df = df[df['Date_received'] >= 20160501]"
   ]
  },
  {
   "cell_type": "code",
   "execution_count": 4,
   "metadata": {},
   "outputs": [],
   "source": [
    "continous = [\n",
    "    'Discount', \n",
    "    'Base_consume', \n",
    "    'Discount_money',\n",
    "    'User_factor_alpha',\n",
    "    'User_factor_beta',\n",
    "    'Merchant_factor_alpha',\n",
    "    'Merchant_factor_beta',\n",
    "    'Coupon_factor_alpha', \n",
    "    'Coupon_factor_beta'\n",
    "]\n",
    "\n",
    "fields = [\n",
    "    'Distance',\n",
    "    'Day_in_month',\n",
    "    'Day_in_week',\n",
    "    'Coupon_type'\n",
    "]\n",
    "\n",
    "label = ['Is_in_day_consume']"
   ]
  },
  {
   "cell_type": "code",
   "execution_count": 5,
   "metadata": {},
   "outputs": [],
   "source": [
    "class MergeFeature(TransformerMixin):\n",
    "    def __init__(self, df, key, prefix, pipe):\n",
    "        self.df = df\n",
    "        self.key = key\n",
    "        self.prefix = prefix\n",
    "        self.pipe = pipe\n",
    "    \n",
    "    def get_factor(self, df, key, prefix):\n",
    "        id_df = df[[key]]\n",
    "        output_df = df.drop([key], axis=1)\n",
    "\n",
    "        self.pipe.fit(output_df)\n",
    "        factors = self.pipe.transform(output_df)\n",
    "        factors_df = pd.DataFrame(data=factors, columns=[prefix + '_factor_alpha', prefix + '_factor_beta'])\n",
    "        factors_df[key] = id_df[key]\n",
    "        return factors_df\n",
    "    \n",
    "    def fit(self, *args, **kwargs):\n",
    "        return self\n",
    "    \n",
    "    def transform(self, X, **transform_params):\n",
    "        return pd.merge(X, self.get_factor(self.df, self.key, self.prefix), on=[self.key], how='left')"
   ]
  },
  {
   "cell_type": "code",
   "execution_count": 6,
   "metadata": {},
   "outputs": [],
   "source": [
    "factor_pipeline = Pipeline([\n",
    "    ('pca', PCA(n_components=2)),\n",
    "    ('scale', MinMaxScaler()),\n",
    "])\n",
    "\n",
    "features_pipeline = Pipeline([\n",
    "    ('user', MergeFeature(user_features_df, 'User_id', 'User', factor_pipeline)),\n",
    "    ('merchant', MergeFeature(merchant_features_df, 'Merchant_id', 'Merchant', factor_pipeline)),\n",
    "    ('coupon', MergeFeature(coupon_features_df, 'Coupon_id', 'Coupon', factor_pipeline)),\n",
    "    ('features', FeatureUnion([\n",
    "        ('continuous', Pipeline([\n",
    "            ('extract', ColumnSelector(continous)),\n",
    "            ('imputer', SimpleImputer(missing_values=np.nan, strategy='most_frequent')),\n",
    "            ('scale', Normalizer())\n",
    "        ])),\n",
    "        ('fields', Pipeline([\n",
    "            ('extract', ColumnSelector(fields)),\n",
    "            ('imputer', SimpleImputer(missing_values=np.nan,  strategy='most_frequent')),\n",
    "            ('one_hot', OneHotEncoder(categories='auto')),\n",
    "            ('to_dense', DenseTransformer())\n",
    "        ])),\n",
    "    ])),\n",
    "])\n",
    "\n",
    "features_pipeline.fit(model_train_df, model_train_df[label].values.ravel())\n",
    "\n",
    "train_dataset_x = features_pipeline.transform(model_train_df)\n",
    "train_dataset_y = model_train_df[label].values.ravel()\n",
    "\n",
    "valid_dataset_x = features_pipeline.transform(model_test_df)\n",
    "valid_dataset_y = model_test_df[label].values.ravel()"
   ]
  },
  {
   "cell_type": "code",
   "execution_count": 7,
   "metadata": {},
   "outputs": [
    {
     "data": {
      "text/plain": [
       "Pipeline(memory=None,\n",
       "     steps=[('xgb', XGBClassifier(base_score=0.5, booster='gbtree', colsample_bylevel=0.7,\n",
       "       colsample_bytree=0.7, eval_metric='auc', gamma=0.1, learn_rate=0.01,\n",
       "       learning_rate=0.1, max_delta_step=0, max_depth=2,\n",
       "       min_child_weight=1, missing=None, n_estimators=50, n_jobs=1,\n",
       "       nthread=None, objective='rank:pairwise', random_state=0,\n",
       "       reg_alpha=1, reg_lambda=1, scale_pos_weight=1, seed=None,\n",
       "       silent=True, subsample=0.7))])"
      ]
     },
     "execution_count": 7,
     "metadata": {},
     "output_type": "execute_result"
    }
   ],
   "source": [
    "model_pipeline = Pipeline([\n",
    "    ('xgb', xgb.sklearn.XGBClassifier())\n",
    "])\n",
    "\n",
    "model_pipeline.set_params(\n",
    "    xgb__learn_rate=0.01,\n",
    "    xgb__max_depth=2,\n",
    "    xgb__min_child_weight=1,\n",
    "    xgb__subsample=0.7,\n",
    "    xgb__colsample_bytree=0.7,\n",
    "    xgb__colsample_bylevel=0.7,\n",
    "    xgb__objective='rank:pairwise',\n",
    "    xgb__n_estimators=50,\n",
    "    xgb__gamma=0.1,\n",
    "    xgb__reg_alpha=1,\n",
    "    xgb__reg_lambda=1,\n",
    "    xgb__max_delta_step=0,\n",
    "    xgb__scale_pos_weight=1,\n",
    "    xgb__silent=True,\n",
    "    xgb__eval_metric='auc'\n",
    ").fit(train_dataset_x, train_dataset_y)"
   ]
  },
  {
   "cell_type": "code",
   "execution_count": 8,
   "metadata": {},
   "outputs": [],
   "source": [
    "class Evaluator():\n",
    "    def __init__(self, df, pipe):\n",
    "        self.df = df\n",
    "        self.pipe = pipe\n",
    "        \n",
    "    def transfer_result(self, result):\n",
    "        return MinMaxScaler(copy=True, feature_range=(0, 1)).fit_transform(result.reshape(-1, 1))\n",
    "    \n",
    "    def cal(self, dataset):\n",
    "        prob_raw = self.pipe.predict_proba(dataset)[:,1]\n",
    "        predict_prob = self.transfer_result(prob_raw)\n",
    "        self.df['Probability'] = predict_prob\n",
    "        return self.evaluate(self.df[['Probability', 'Coupon_id', 'Is_in_day_consume']])\n",
    "    \n",
    "    def describe(self):\n",
    "        return self.df[['User_id', 'Coupon_id', 'Probability', 'Is_in_day_consume']].describe()\n",
    "    \n",
    "    def predict(self, dataset):\n",
    "        prob_raw = self.pipe.predict_proba(dataset)[:,1]\n",
    "        predict_prob = self.transfer_result(prob_raw)\n",
    "        self.df['Probability'] = predict_prob\n",
    "        return self.df[['User_id', 'Coupon_id', 'Date_received', 'Probability']]\n",
    "    \n",
    "    def evaluate(self, result_df):\n",
    "        group = result_df.groupby(['Coupon_id'])\n",
    "        aucs = []\n",
    "        logging.info('coupon size is %d' % (len(group)))\n",
    "\n",
    "        counter = 0\n",
    "        for i in group:\n",
    "            tmpdf = i[1]        \n",
    "            if len(tmpdf['Is_in_day_consume'].unique()) != 2:\n",
    "                continue\n",
    "\n",
    "            fpr, tpr, thresholds = roc_curve(tmpdf['Is_in_day_consume'], tmpdf['Probability'], pos_label=1)\n",
    "            auc_score = auc(fpr,tpr)\n",
    "            aucs.append(auc_score)\n",
    "            counter = counter + 1\n",
    "\n",
    "        logging.info('coupon in cal is %d' % (counter))\n",
    "\n",
    "        return np.average(aucs)"
   ]
  },
  {
   "cell_type": "code",
   "execution_count": 9,
   "metadata": {},
   "outputs": [
    {
     "name": "stderr",
     "output_type": "stream",
     "text": [
      "/Users/leewind/.local/share/virtualenvs/leewind-p6XO93Th/lib/python3.7/site-packages/ipykernel_launcher.py:12: SettingWithCopyWarning: \n",
      "A value is trying to be set on a copy of a slice from a DataFrame.\n",
      "Try using .loc[row_indexer,col_indexer] = value instead\n",
      "\n",
      "See the caveats in the documentation: http://pandas.pydata.org/pandas-docs/stable/indexing.html#indexing-view-versus-copy\n",
      "  if sys.path[0] == '':\n",
      "2019-01-28 10:36:15,978  <ipython-input-8-68255e7438c7> : INFO  coupon size is 7160\n",
      "2019-01-28 10:36:23,193  <ipython-input-8-68255e7438c7> : INFO  coupon in cal is 4004\n"
     ]
    },
    {
     "data": {
      "text/plain": [
       "0.568953425169264"
      ]
     },
     "execution_count": 9,
     "metadata": {},
     "output_type": "execute_result"
    }
   ],
   "source": [
    "evaluator = Evaluator(model_test_df, model_pipeline)\n",
    "evaluator.cal(valid_dataset_x)"
   ]
  },
  {
   "cell_type": "code",
   "execution_count": 10,
   "metadata": {},
   "outputs": [
    {
     "data": {
      "text/html": [
       "<div>\n",
       "<style scoped>\n",
       "    .dataframe tbody tr th:only-of-type {\n",
       "        vertical-align: middle;\n",
       "    }\n",
       "\n",
       "    .dataframe tbody tr th {\n",
       "        vertical-align: top;\n",
       "    }\n",
       "\n",
       "    .dataframe thead th {\n",
       "        text-align: right;\n",
       "    }\n",
       "</style>\n",
       "<table border=\"1\" class=\"dataframe\">\n",
       "  <thead>\n",
       "    <tr style=\"text-align: right;\">\n",
       "      <th></th>\n",
       "      <th>User_id</th>\n",
       "      <th>Coupon_id</th>\n",
       "      <th>Probability</th>\n",
       "      <th>Is_in_day_consume</th>\n",
       "    </tr>\n",
       "  </thead>\n",
       "  <tbody>\n",
       "    <tr>\n",
       "      <th>count</th>\n",
       "      <td>3.063130e+05</td>\n",
       "      <td>306313.000000</td>\n",
       "      <td>306313.000000</td>\n",
       "      <td>306313.000000</td>\n",
       "    </tr>\n",
       "    <tr>\n",
       "      <th>mean</th>\n",
       "      <td>3.681999e+06</td>\n",
       "      <td>6145.500612</td>\n",
       "      <td>0.232891</td>\n",
       "      <td>0.091707</td>\n",
       "    </tr>\n",
       "    <tr>\n",
       "      <th>std</th>\n",
       "      <td>2.122008e+06</td>\n",
       "      <td>4135.385856</td>\n",
       "      <td>0.216970</td>\n",
       "      <td>0.288612</td>\n",
       "    </tr>\n",
       "    <tr>\n",
       "      <th>min</th>\n",
       "      <td>4.000000e+00</td>\n",
       "      <td>1.000000</td>\n",
       "      <td>0.000000</td>\n",
       "      <td>0.000000</td>\n",
       "    </tr>\n",
       "    <tr>\n",
       "      <th>25%</th>\n",
       "      <td>1.842402e+06</td>\n",
       "      <td>2418.000000</td>\n",
       "      <td>0.125907</td>\n",
       "      <td>0.000000</td>\n",
       "    </tr>\n",
       "    <tr>\n",
       "      <th>50%</th>\n",
       "      <td>3.684421e+06</td>\n",
       "      <td>4958.000000</td>\n",
       "      <td>0.181925</td>\n",
       "      <td>0.000000</td>\n",
       "    </tr>\n",
       "    <tr>\n",
       "      <th>75%</th>\n",
       "      <td>5.518531e+06</td>\n",
       "      <td>9746.000000</td>\n",
       "      <td>0.228310</td>\n",
       "      <td>0.000000</td>\n",
       "    </tr>\n",
       "    <tr>\n",
       "      <th>max</th>\n",
       "      <td>7.360961e+06</td>\n",
       "      <td>14045.000000</td>\n",
       "      <td>1.000000</td>\n",
       "      <td>1.000000</td>\n",
       "    </tr>\n",
       "  </tbody>\n",
       "</table>\n",
       "</div>"
      ],
      "text/plain": [
       "            User_id      Coupon_id    Probability  Is_in_day_consume\n",
       "count  3.063130e+05  306313.000000  306313.000000      306313.000000\n",
       "mean   3.681999e+06    6145.500612       0.232891           0.091707\n",
       "std    2.122008e+06    4135.385856       0.216970           0.288612\n",
       "min    4.000000e+00       1.000000       0.000000           0.000000\n",
       "25%    1.842402e+06    2418.000000       0.125907           0.000000\n",
       "50%    3.684421e+06    4958.000000       0.181925           0.000000\n",
       "75%    5.518531e+06    9746.000000       0.228310           0.000000\n",
       "max    7.360961e+06   14045.000000       1.000000           1.000000"
      ]
     },
     "execution_count": 10,
     "metadata": {},
     "output_type": "execute_result"
    }
   ],
   "source": [
    "evaluator.describe()"
   ]
  },
  {
   "cell_type": "markdown",
   "metadata": {},
   "source": [
    "## 预测"
   ]
  },
  {
   "cell_type": "code",
   "execution_count": 11,
   "metadata": {},
   "outputs": [
    {
     "data": {
      "text/plain": [
       "(113640, 4)"
      ]
     },
     "execution_count": 11,
     "metadata": {},
     "output_type": "execute_result"
    }
   ],
   "source": [
    "model_pred_df = pd.read_csv('../features/lcm_submit_features.csv')\n",
    "predict_dataset_x = features_pipeline.transform(model_pred_df)\n",
    "predictor = Evaluator(model_pred_df, model_pipeline)\n",
    "final_result_df = predictor.predict(predict_dataset_x)\n",
    "final_result_df.to_csv('/Users/leewind/Desktop/submission_20190127.csv', index=False, header=False)\n",
    "final_result_df.shape"
   ]
  },
  {
   "cell_type": "code",
   "execution_count": null,
   "metadata": {},
   "outputs": [],
   "source": []
  }
 ],
 "metadata": {
  "kernelspec": {
   "display_name": "Python 3",
   "language": "python",
   "name": "python3"
  },
  "language_info": {
   "codemirror_mode": {
    "name": "ipython",
    "version": 3
   },
   "file_extension": ".py",
   "mimetype": "text/x-python",
   "name": "python",
   "nbconvert_exporter": "python",
   "pygments_lexer": "ipython3",
   "version": "3.7.1"
  }
 },
 "nbformat": 4,
 "nbformat_minor": 2
}
