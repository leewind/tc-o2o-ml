{
 "cells": [
  {
   "cell_type": "code",
   "execution_count": 28,
   "metadata": {},
   "outputs": [],
   "source": [
    "import numpy as np\n",
    "import pandas as pd\n",
    "import seaborn as sns\n",
    "import matplotlib.pyplot as plt\n",
    "import math\n",
    "\n",
    "from datetime import datetime\n",
    "from scipy import stats\n",
    "\n",
    "from sklearn.pipeline import Pipeline, FeatureUnion\n",
    "from sklearn.base import BaseEstimator, TransformerMixin\n",
    "from mlxtend.feature_selection import ColumnSelector\n",
    "from sklearn.preprocessing import OneHotEncoder,MinMaxScaler, Normalizer\n",
    "from sklearn.impute import SimpleImputer\n",
    "from sklearn.decomposition import PCA"
   ]
  },
  {
   "cell_type": "markdown",
   "metadata": {},
   "source": [
    "### 优惠券特征的提取\n",
    "\n",
    "+ 用户历史领取该优惠券次数\n",
    "+ 用户历史核销该优惠券次数\n",
    "+ 用户历史核销该优惠券核销率"
   ]
  },
  {
   "cell_type": "code",
   "execution_count": 29,
   "metadata": {},
   "outputs": [],
   "source": [
    "base_features_df = pd.read_csv('../features/lcm_base_features.csv')\n",
    "user_features_df = pd.read_csv('../features/lcm_user_features.csv')"
   ]
  },
  {
   "cell_type": "code",
   "execution_count": 30,
   "metadata": {},
   "outputs": [
    {
     "name": "stdout",
     "output_type": "stream",
     "text": [
      "<class 'pandas.core.frame.DataFrame'>\n",
      "RangeIndex: 1754884 entries, 0 to 1754883\n",
      "Data columns (total 16 columns):\n",
      "User_id              int64\n",
      "Merchant_id          float64\n",
      "Coupon_id            float64\n",
      "Distance             float64\n",
      "Date_received        float64\n",
      "Is_in_day_consume    float64\n",
      "Discount             float64\n",
      "Base_consume         float64\n",
      "Discount_money       float64\n",
      "Day_in_month         float64\n",
      "Day_in_week          float64\n",
      "Month_in_year        float64\n",
      "Coupon_type          float64\n",
      "Offline_consume      float64\n",
      "Duration             float64\n",
      "Is_used_coupon       float64\n",
      "dtypes: float64(15), int64(1)\n",
      "memory usage: 214.2 MB\n"
     ]
    }
   ],
   "source": [
    "base_features_df.info()"
   ]
  },
  {
   "cell_type": "code",
   "execution_count": 31,
   "metadata": {},
   "outputs": [],
   "source": [
    "def is_debug_df(df, date=20160501, debug=True):\n",
    "    if debug:\n",
    "        return df[df['Date_received']<date]\n",
    "    else:\n",
    "        return df.copy()\n",
    "    \n",
    "df = is_debug_df(base_features_df, debug=True)\n",
    "df = df[df['Coupon_id'] > 0]"
   ]
  },
  {
   "cell_type": "code",
   "execution_count": 32,
   "metadata": {},
   "outputs": [],
   "source": [
    "def join(df, col, series, key):\n",
    "    return multi_join(df, col, series, [key])\n",
    "\n",
    "def multi_join(df, col, series, keys):\n",
    "    t = series.to_frame()\n",
    "    t.columns = [col]\n",
    "    \n",
    "    return pd.merge(df, t, on=keys, how='left')"
   ]
  },
  {
   "cell_type": "code",
   "execution_count": 33,
   "metadata": {},
   "outputs": [],
   "source": [
    "def receive_count(df, target, groupby, is_dup=True):\n",
    "    if is_dup:\n",
    "        return df[df['Date_received']>0][target].drop_duplicates().groupby(groupby).size()\n",
    "    else:\n",
    "        return df[df['Date_received']>0][target].groupby(groupby).size()\n",
    "\n",
    "def cousume_count(df, target, groupby, is_dup=True):\n",
    "    if is_dup:\n",
    "        return df[df['Offline_consume']>0][target].drop_duplicates().groupby(groupby).size()\n",
    "    else:\n",
    "        return df[df['Offline_consume']>0][target].groupby(groupby).size()\n",
    "\n",
    "def used_count(df, target, groupby, is_dup=True):\n",
    "    if is_dup:\n",
    "        return df[df['Is_in_day_consume']>0][target].drop_duplicates().groupby(groupby).size()\n",
    "    else:\n",
    "        return df[df['Is_in_day_consume']>0][target].groupby(groupby).size()\n",
    "\n",
    "def cal_user_used_coupon_rate(row):\n",
    "    return row.User_used_count/row.User_receive_count\n",
    "\n",
    "def cal_user_not_used_conpon_count(row):\n",
    "    return row.User_receive_count - row.User_used_count\n",
    "\n",
    "def extract_info(df, target, type, groupby, column_name, is_dup=True):\n",
    "    factory = {\n",
    "        'receive_type': receive_count,\n",
    "        'used_type': used_count\n",
    "    }\n",
    "    \n",
    "    target_df = df[groupby].drop_duplicates()\n",
    "    series = factory[type](df, target, groupby, is_dup)\n",
    "    \n",
    "    tdf = multi_join(target_df, column_name, series, groupby)\n",
    "    tdf = tdf.fillna(0)\n",
    "    \n",
    "#     mean = tdf[column_name].mean()\n",
    "#     tdf[column_name+'_occ'] = tdf[column_name] / mean\n",
    "    return tdf[groupby + [column_name, ]]"
   ]
  },
  {
   "cell_type": "code",
   "execution_count": 34,
   "metadata": {},
   "outputs": [],
   "source": [
    "class GroupbyExtractor(TransformerMixin):\n",
    "    def __init__(self, fn, target, type, groupby, column_name):\n",
    "        self.fn = fn\n",
    "        self.target = target\n",
    "        self.type = type\n",
    "        self.groupby = groupby\n",
    "        self.column_name = column_name\n",
    "    \n",
    "    def fit(self, *args, **kwargs):\n",
    "        return self\n",
    "\n",
    "    def transform(self, X, **transform_params):\n",
    "        return self.fn(X, self.target, self.type, self.groupby, self.column_name)"
   ]
  },
  {
   "cell_type": "code",
   "execution_count": 35,
   "metadata": {},
   "outputs": [],
   "source": [
    "keys = ['User_id', 'Coupon_id']\n",
    "user_coupon_features_df = df[keys].drop_duplicates()\n",
    "user_coupon_features_df = pd.merge(user_coupon_features_df, user_features_df, on=['User_id'], how='left')\n",
    "\n",
    "user_coupon_features_df = pd.merge(user_coupon_features_df, extract_info(df, keys, 'receive_type', keys, 'User_coupon_receive_count', False), on=keys, how='left')\n",
    "user_coupon_features_df = pd.merge(user_coupon_features_df, extract_info(df, keys, 'used_type', keys, 'User_coupon_used_count', False), on=keys, how='left')\n",
    "\n",
    "user_coupon_features_df['User_coupon_used_rate'] = user_coupon_features_df['User_coupon_used_count'] / user_coupon_features_df['User_coupon_receive_count']\n",
    "\n",
    "user_coupon_features_df = user_coupon_features_df.fillna(0)\n",
    "# user_coupon_features_df['User_coupon_used_rate_occ'] = user_coupon_features_df['User_coupon_used_rate'] / user_coupon_features_df['User_coupon_used_rate'].mean()"
   ]
  },
  {
   "cell_type": "code",
   "execution_count": 36,
   "metadata": {},
   "outputs": [],
   "source": [
    "user_columns = user_features_df.columns.values\n",
    "user_columns = user_columns[np.where(user_columns !='User_id')] \n",
    "\n",
    "user_coupon_features_df = user_coupon_features_df.drop(user_columns, axis=1)"
   ]
  },
  {
   "cell_type": "code",
   "execution_count": 37,
   "metadata": {},
   "outputs": [
    {
     "name": "stdout",
     "output_type": "stream",
     "text": [
      "<class 'pandas.core.frame.DataFrame'>\n",
      "Int64Index: 680806 entries, 0 to 680805\n",
      "Data columns (total 5 columns):\n",
      "User_id                      680806 non-null int64\n",
      "Coupon_id                    680806 non-null float64\n",
      "User_coupon_receive_count    680806 non-null int64\n",
      "User_coupon_used_count       680806 non-null float64\n",
      "User_coupon_used_rate        680806 non-null float64\n",
      "dtypes: float64(3), int64(2)\n",
      "memory usage: 31.2 MB\n"
     ]
    }
   ],
   "source": [
    "user_coupon_features_df.info()"
   ]
  },
  {
   "cell_type": "code",
   "execution_count": 38,
   "metadata": {},
   "outputs": [
    {
     "data": {
      "text/plain": [
       "array(['User_id', 'Coupon_id', 'User_coupon_receive_count',\n",
       "       'User_coupon_used_count', 'User_coupon_used_rate'], dtype=object)"
      ]
     },
     "execution_count": 38,
     "metadata": {},
     "output_type": "execute_result"
    }
   ],
   "source": [
    "user_coupon_features_df.columns.values"
   ]
  },
  {
   "cell_type": "code",
   "execution_count": 39,
   "metadata": {},
   "outputs": [],
   "source": [
    "user_coupon_features_df.to_csv('../features/lcm_user_coupon_features.csv', index=False, header=True)"
   ]
  },
  {
   "cell_type": "markdown",
   "metadata": {},
   "source": [
    "## 数据分析"
   ]
  },
  {
   "cell_type": "code",
   "execution_count": 40,
   "metadata": {},
   "outputs": [
    {
     "data": {
      "image/png": "[encoded data removed]",
      "text/plain": [
       "<Figure size 360x360 with 1 Axes>"
      ]
     },
     "metadata": {},
     "output_type": "display_data"
    }
   ],
   "source": [
    "import numpy as np\n",
    "import pandas as pd\n",
    "import matplotlib.pyplot as plt\n",
    "import seaborn as sns\n",
    "sns.set(style=\"darkgrid\")\n",
    "\n",
    "tdf = pd.read_csv('../features/lcm_user_coupon_features.csv')\n",
    "tdf = tdf.drop(['User_id', 'Coupon_id'], axis=1)\n",
    "\n",
    "ipipe = Pipeline([\n",
    "    ('pca', PCA(n_components=2)),\n",
    "    ('scale', MinMaxScaler()),\n",
    "])\n",
    "\n",
    "ipipe.fit(tdf)\n",
    "output = ipipe.transform(tdf)\n",
    "output_df = pd.DataFrame(data=output, columns=['x', 'y'])\n",
    "\n",
    "sns.relplot(x=\"x\", y=\"y\", data=output_df);"
   ]
  },
  {
   "cell_type": "code",
   "execution_count": null,
   "metadata": {},
   "outputs": [],
   "source": []
  }
 ],
 "metadata": {
  "kernelspec": {
   "display_name": "Python 3",
   "language": "python",
   "name": "python3"
  },
  "language_info": {
   "codemirror_mode": {
    "name": "ipython",
    "version": 3
   },
   "file_extension": ".py",
   "mimetype": "text/x-python",
   "name": "python",
   "nbconvert_exporter": "python",
   "pygments_lexer": "ipython3",
   "version": "3.7.1"
  }
 },
 "nbformat": 4,
 "nbformat_minor": 2
}
