{
 "cells": [
  {
   "cell_type": "markdown",
   "metadata": {},
   "source": [
    "# 特征工程"
   ]
  },
  {
   "cell_type": "code",
   "execution_count": 1,
   "metadata": {},
   "outputs": [],
   "source": [
    "import pandas as pd\n",
    "import datetime\n",
    "import logging\n",
    "import numpy as np\n",
    "\n",
    "from sklearn.preprocessing import StandardScaler\n",
    "from sklearn.decomposition import PCA\n",
    "from sklearn.linear_model import LogisticRegression, LinearRegression\n",
    "from sklearn.preprocessing import OneHotEncoder,MinMaxScaler, Normalizer\n",
    "from sklearn.feature_selection import SelectKBest,chi2\n",
    "from xgboost import XGBClassifier\n",
    "from sklearn.pipeline import Pipeline, FeatureUnion\n",
    "from sklearn.base import BaseEstimator, TransformerMixin\n",
    "from sklearn.model_selection import GridSearchCV\n",
    "from sklearn.impute import SimpleImputer\n",
    "\n",
    "from mlxtend.preprocessing import DenseTransformer\n",
    "from mlxtend.feature_selection import ColumnSelector"
   ]
  },
  {
   "cell_type": "code",
   "execution_count": 2,
   "metadata": {},
   "outputs": [],
   "source": [
    "def groupby2df(t, name):\n",
    "    t = t.to_frame()\n",
    "    t.columns = [name]\n",
    "    return t"
   ]
  },
  {
   "cell_type": "code",
   "execution_count": 3,
   "metadata": {},
   "outputs": [],
   "source": [
    "logger = logging.getLogger('ai')\n",
    "logging.basicConfig(level=logging.DEBUG,\n",
    "                    format='%(asctime)s  %(filename)s : %(levelname)s  %(message)s')"
   ]
  },
  {
   "cell_type": "code",
   "execution_count": 4,
   "metadata": {},
   "outputs": [],
   "source": [
    "offline_df = pd.read_csv('../source/ccf_offline_stage1_train.csv', parse_dates = ['Date_received', 'Date'])\n",
    "online_df = pd.read_csv('../source/ccf_online_stage1_train.csv', parse_dates = ['Date_received', 'Date'])"
   ]
  },
  {
   "cell_type": "code",
   "execution_count": 5,
   "metadata": {},
   "outputs": [],
   "source": [
    "pred_df = pd.read_csv('../source/ccf_offline_stage1_test_revised.csv', parse_dates = ['Date_received'])"
   ]
  },
  {
   "cell_type": "markdown",
   "metadata": {},
   "source": [
    "## 数据集划分"
   ]
  },
  {
   "cell_type": "code",
   "execution_count": 6,
   "metadata": {},
   "outputs": [],
   "source": [
    "time_range = [datetime.datetime(2016, 3, 16), datetime.datetime(2016, 6, 30)]\n",
    "\n",
    "time_range_date_received = time_range\n",
    "time_range_date = time_range\n",
    "\n",
    "FILENAME = 'dataset_pred'\n",
    "\n",
    "IS_PRED = True"
   ]
  },
  {
   "cell_type": "code",
   "execution_count": 7,
   "metadata": {},
   "outputs": [],
   "source": [
    "# time_range = [datetime.datetime(2016, 5, 16), datetime.datetime(2016, 6, 15)]\n",
    "\n",
    "# time_range_date_received = [datetime.datetime(2016, 2, 1), datetime.datetime(2016, 4, 30)]\n",
    "# time_range_date = [datetime.datetime(2016, 2, 1), datetime.datetime(2016, 5, 15)]\n",
    "\n",
    "# FILENAME = 'dataset_beta'\n",
    "\n",
    "# IS_PRED = False"
   ]
  },
  {
   "cell_type": "code",
   "execution_count": 8,
   "metadata": {},
   "outputs": [],
   "source": [
    "# time_range = [datetime.datetime(2016, 4, 16), datetime.datetime(2016, 5, 15)]\n",
    "\n",
    "# time_range_date_received = [datetime.datetime(2016, 1, 1), datetime.datetime(2016, 3, 31)]\n",
    "# time_range_date = [datetime.datetime(2016, 1, 1), datetime.datetime(2016, 4, 15)]\n",
    "\n",
    "# FILENAME = 'dataset_alpha'\n",
    "\n",
    "# IS_PRED = False"
   ]
  },
  {
   "cell_type": "code",
   "execution_count": 9,
   "metadata": {},
   "outputs": [],
   "source": [
    "def _split(row, time_range_date_received, time_range_date):\n",
    "    if ((row.Date >= time_range_date[0]) & (row.Date <= time_range_date[1])) | ((row.Coupon_id == 0) & (row.Date_received >= time_range_date_received[0]) & (row.Date_received <= time_range_date_received[1])):\n",
    "        return row\n",
    "    \n",
    "def dataset_fetch(time_range):\n",
    "    dataset = offline_df[(offline_df.Date_received >= time_range[0]) & (offline_df.Date_received <= time_range[1])].copy()\n",
    "    return dataset\n",
    "    \n",
    "def dataset_split(time_range_date_received, time_range_date):\n",
    "    feature_offline = offline_df.loc[\n",
    "        ((offline_df.Date >= time_range_date[0]) & (offline_df.Date <= time_range_date[1])) | \n",
    "        ((offline_df.Coupon_id == 0) & (offline_df.Date_received >= time_range_date_received[0]) & (offline_df.Date_received <= time_range_date_received[1]))]\n",
    "    feature_online = online_df.loc[\n",
    "        ((online_df.Date >= time_range_date[0]) & (online_df.Date <= time_range_date[1])) | \n",
    "        ((online_df.Coupon_id == 0) & (online_df.Date_received >= time_range_date_received[0]) & (online_df.Date_received <= time_range_date_received[1]))]\n",
    "    \n",
    "    return feature_offline, feature_online\n",
    "\n",
    "if IS_PRED:\n",
    "    dataset = pred_df\n",
    "else:\n",
    "    dataset = dataset_fetch(time_range)\n",
    "\n",
    "feature_alpha_offline, feature_alpha_online = dataset_split(time_range_date_received, time_range_date)"
   ]
  },
  {
   "cell_type": "markdown",
   "metadata": {},
   "source": [
    "## 基础数据特征"
   ]
  },
  {
   "cell_type": "markdown",
   "metadata": {},
   "source": [
    "### 基础特征抽取"
   ]
  },
  {
   "cell_type": "code",
   "execution_count": 10,
   "metadata": {},
   "outputs": [],
   "source": [
    "discount_cat = offline_df['Discount_rate'].unique()"
   ]
  },
  {
   "cell_type": "code",
   "execution_count": 11,
   "metadata": {},
   "outputs": [],
   "source": [
    "def cal_coupon_feature(row):\n",
    "    if isinstance(row.Discount_rate, str) and row.Discount_rate == 'fixed':\n",
    "        row.Coupon_type = 2\n",
    "        return row\n",
    "    \n",
    "    if isinstance(row.Discount_rate, float):\n",
    "        row.Discount = row.Discount_rate\n",
    "        i, = np.where(discount_cat == row.Discount_rate)\n",
    "        if len(i)>0:\n",
    "            row.Coupon_category = i[0]\n",
    "        return row\n",
    "    \n",
    "    arr = row.Discount_rate.split(':')\n",
    "    if len(arr) == 2:\n",
    "        row.Discount =  (float(arr[0]) - float(arr[1])) / float(arr[0])\n",
    "        row.Coupon_type = 1\n",
    "        row.Base_consume = float(arr[0])\n",
    "        row.Discount_money = float(arr[1])\n",
    "    else:\n",
    "        row.Discount = float(row.Discount_rate)\n",
    "        \n",
    "    i, = np.where(discount_cat == row.Discount_rate)\n",
    "    if len(i)>0:\n",
    "        row.Coupon_category = i[0]\n",
    "    \n",
    "    return row"
   ]
  },
  {
   "cell_type": "code",
   "execution_count": 12,
   "metadata": {},
   "outputs": [],
   "source": [
    "def cal_previous_duration(row):\n",
    "    if row['User_id'] == row['Previous_user_id'] and row['Date_received'] is not None and row['Previous_date_received'] is not None:\n",
    "        return (row.Date_received - row.Previous_date_received).days\n",
    "    \n",
    "    return 0\n",
    "\n",
    "def cal_next_duration(row):\n",
    "    if row['User_id'] == row['Next_user_id'] and row['Date_received'] is not None and row['Next_date_received'] is not None:\n",
    "        return (row.Next_date_received - row.Date_received).days\n",
    "    \n",
    "    return 0"
   ]
  },
  {
   "cell_type": "code",
   "execution_count": 13,
   "metadata": {},
   "outputs": [],
   "source": [
    "def extract_basic_info(dataset):\n",
    "    dataset['Distance'] = dataset['Distance'].fillna(-1)\n",
    "    dataset['Distance'] = dataset['Distance'] + 1\n",
    "\n",
    "    dataset['Month_of_received'] = dataset.apply(lambda row: row.Date_received.month, axis=1)\n",
    "    dataset['Day_of_received'] = dataset.apply(lambda row: row.Date_received.day, axis=1)\n",
    "    dataset['Weekday_of_received'] = dataset.apply(lambda row: row.Date_received.weekday() + 1, axis=1)\n",
    "\n",
    "    dataset['Base_consume'] = 0.0\n",
    "    dataset['Discount'] = 0.0\n",
    "    dataset['Discount_money'] = 0.0\n",
    "    dataset['Coupon_type'] = 0\n",
    "    dataset['Coupon_category'] = 0\n",
    "\n",
    "    dataset = dataset.apply(lambda row: cal_coupon_feature(row), axis=1)\n",
    "\n",
    "    dataset = dataset.sort_values(by=['User_id', 'Date_received'], ascending=True)\n",
    "\n",
    "    dataset['Previous_user_id'] = dataset['User_id'].shift(1)\n",
    "    dataset['Previous_date_received'] = dataset['Date_received'].shift(1)\n",
    "\n",
    "    dataset['Next_user_id'] = dataset['User_id'].shift(-1)\n",
    "    dataset['Next_date_received'] = dataset['Date_received'].shift(-1)\n",
    "\n",
    "    dataset['Previous_duration'] = dataset.apply(lambda row: cal_previous_duration(row), axis=1)\n",
    "    dataset['Next_duration'] = dataset.apply(lambda row: cal_next_duration(row), axis=1)\n",
    "    return dataset"
   ]
  },
  {
   "cell_type": "code",
   "execution_count": 14,
   "metadata": {},
   "outputs": [],
   "source": [
    "dataset = extract_basic_info(dataset)"
   ]
  },
  {
   "cell_type": "code",
   "execution_count": 15,
   "metadata": {},
   "outputs": [
    {
     "data": {
      "text/html": [
       "<div>\n",
       "<style scoped>\n",
       "    .dataframe tbody tr th:only-of-type {\n",
       "        vertical-align: middle;\n",
       "    }\n",
       "\n",
       "    .dataframe tbody tr th {\n",
       "        vertical-align: top;\n",
       "    }\n",
       "\n",
       "    .dataframe thead th {\n",
       "        text-align: right;\n",
       "    }\n",
       "</style>\n",
       "<table border=\"1\" class=\"dataframe\">\n",
       "  <thead>\n",
       "    <tr style=\"text-align: right;\">\n",
       "      <th></th>\n",
       "      <th>User_id</th>\n",
       "      <th>Merchant_id</th>\n",
       "      <th>Coupon_id</th>\n",
       "      <th>Discount_rate</th>\n",
       "      <th>Distance</th>\n",
       "      <th>Date_received</th>\n",
       "      <th>Month_of_received</th>\n",
       "      <th>Day_of_received</th>\n",
       "      <th>Weekday_of_received</th>\n",
       "      <th>Base_consume</th>\n",
       "      <th>Discount</th>\n",
       "      <th>Discount_money</th>\n",
       "      <th>Coupon_type</th>\n",
       "      <th>Coupon_category</th>\n",
       "      <th>Previous_user_id</th>\n",
       "      <th>Previous_date_received</th>\n",
       "      <th>Next_user_id</th>\n",
       "      <th>Next_date_received</th>\n",
       "      <th>Previous_duration</th>\n",
       "      <th>Next_duration</th>\n",
       "    </tr>\n",
       "  </thead>\n",
       "  <tbody>\n",
       "    <tr>\n",
       "      <th>23866</th>\n",
       "      <td>209</td>\n",
       "      <td>5032</td>\n",
       "      <td>7557</td>\n",
       "      <td>20:5</td>\n",
       "      <td>2.0</td>\n",
       "      <td>2016-07-21</td>\n",
       "      <td>7</td>\n",
       "      <td>21</td>\n",
       "      <td>4</td>\n",
       "      <td>20.0</td>\n",
       "      <td>0.750000</td>\n",
       "      <td>5.0</td>\n",
       "      <td>1</td>\n",
       "      <td>9</td>\n",
       "      <td>NaN</td>\n",
       "      <td>NaT</td>\n",
       "      <td>209.0</td>\n",
       "      <td>2016-07-21</td>\n",
       "      <td>0</td>\n",
       "      <td>0</td>\n",
       "    </tr>\n",
       "    <tr>\n",
       "      <th>23867</th>\n",
       "      <td>209</td>\n",
       "      <td>5032</td>\n",
       "      <td>825</td>\n",
       "      <td>20:5</td>\n",
       "      <td>2.0</td>\n",
       "      <td>2016-07-21</td>\n",
       "      <td>7</td>\n",
       "      <td>21</td>\n",
       "      <td>4</td>\n",
       "      <td>20.0</td>\n",
       "      <td>0.750000</td>\n",
       "      <td>5.0</td>\n",
       "      <td>1</td>\n",
       "      <td>9</td>\n",
       "      <td>209.0</td>\n",
       "      <td>2016-07-21</td>\n",
       "      <td>215.0</td>\n",
       "      <td>2016-07-03</td>\n",
       "      <td>0</td>\n",
       "      <td>0</td>\n",
       "    </tr>\n",
       "    <tr>\n",
       "      <th>23793</th>\n",
       "      <td>215</td>\n",
       "      <td>599</td>\n",
       "      <td>5488</td>\n",
       "      <td>20:1</td>\n",
       "      <td>0.0</td>\n",
       "      <td>2016-07-03</td>\n",
       "      <td>7</td>\n",
       "      <td>3</td>\n",
       "      <td>7</td>\n",
       "      <td>20.0</td>\n",
       "      <td>0.950000</td>\n",
       "      <td>1.0</td>\n",
       "      <td>1</td>\n",
       "      <td>2</td>\n",
       "      <td>209.0</td>\n",
       "      <td>2016-07-21</td>\n",
       "      <td>316.0</td>\n",
       "      <td>2016-07-21</td>\n",
       "      <td>0</td>\n",
       "      <td>0</td>\n",
       "    </tr>\n",
       "    <tr>\n",
       "      <th>61826</th>\n",
       "      <td>316</td>\n",
       "      <td>2436</td>\n",
       "      <td>3992</td>\n",
       "      <td>30:5</td>\n",
       "      <td>1.0</td>\n",
       "      <td>2016-07-21</td>\n",
       "      <td>7</td>\n",
       "      <td>21</td>\n",
       "      <td>4</td>\n",
       "      <td>30.0</td>\n",
       "      <td>0.833333</td>\n",
       "      <td>5.0</td>\n",
       "      <td>1</td>\n",
       "      <td>4</td>\n",
       "      <td>215.0</td>\n",
       "      <td>2016-07-03</td>\n",
       "      <td>417.0</td>\n",
       "      <td>2016-07-12</td>\n",
       "      <td>0</td>\n",
       "      <td>0</td>\n",
       "    </tr>\n",
       "    <tr>\n",
       "      <th>23851</th>\n",
       "      <td>417</td>\n",
       "      <td>3507</td>\n",
       "      <td>12465</td>\n",
       "      <td>50:1</td>\n",
       "      <td>1.0</td>\n",
       "      <td>2016-07-12</td>\n",
       "      <td>7</td>\n",
       "      <td>12</td>\n",
       "      <td>2</td>\n",
       "      <td>50.0</td>\n",
       "      <td>0.980000</td>\n",
       "      <td>1.0</td>\n",
       "      <td>1</td>\n",
       "      <td>26</td>\n",
       "      <td>316.0</td>\n",
       "      <td>2016-07-21</td>\n",
       "      <td>432.0</td>\n",
       "      <td>2016-07-06</td>\n",
       "      <td>0</td>\n",
       "      <td>0</td>\n",
       "    </tr>\n",
       "  </tbody>\n",
       "</table>\n",
       "</div>"
      ],
      "text/plain": [
       "       User_id  Merchant_id  Coupon_id Discount_rate  Distance Date_received  \\\n",
       "23866      209         5032       7557          20:5       2.0    2016-07-21   \n",
       "23867      209         5032        825          20:5       2.0    2016-07-21   \n",
       "23793      215          599       5488          20:1       0.0    2016-07-03   \n",
       "61826      316         2436       3992          30:5       1.0    2016-07-21   \n",
       "23851      417         3507      12465          50:1       1.0    2016-07-12   \n",
       "\n",
       "       Month_of_received  Day_of_received  Weekday_of_received  Base_consume  \\\n",
       "23866                  7               21                    4          20.0   \n",
       "23867                  7               21                    4          20.0   \n",
       "23793                  7                3                    7          20.0   \n",
       "61826                  7               21                    4          30.0   \n",
       "23851                  7               12                    2          50.0   \n",
       "\n",
       "       Discount  Discount_money  Coupon_type  Coupon_category  \\\n",
       "23866  0.750000             5.0            1                9   \n",
       "23867  0.750000             5.0            1                9   \n",
       "23793  0.950000             1.0            1                2   \n",
       "61826  0.833333             5.0            1                4   \n",
       "23851  0.980000             1.0            1               26   \n",
       "\n",
       "       Previous_user_id Previous_date_received  Next_user_id  \\\n",
       "23866               NaN                    NaT         209.0   \n",
       "23867             209.0             2016-07-21         215.0   \n",
       "23793             209.0             2016-07-21         316.0   \n",
       "61826             215.0             2016-07-03         417.0   \n",
       "23851             316.0             2016-07-21         432.0   \n",
       "\n",
       "      Next_date_received  Previous_duration  Next_duration  \n",
       "23866         2016-07-21                  0              0  \n",
       "23867         2016-07-03                  0              0  \n",
       "23793         2016-07-21                  0              0  \n",
       "61826         2016-07-12                  0              0  \n",
       "23851         2016-07-06                  0              0  "
      ]
     },
     "execution_count": 15,
     "metadata": {},
     "output_type": "execute_result"
    }
   ],
   "source": [
    "dataset.head()"
   ]
  },
  {
   "cell_type": "markdown",
   "metadata": {},
   "source": [
    "### 预测区间特征提取"
   ]
  },
  {
   "cell_type": "code",
   "execution_count": 16,
   "metadata": {},
   "outputs": [],
   "source": [
    "d = dataset.copy()"
   ]
  },
  {
   "cell_type": "markdown",
   "metadata": {},
   "source": [
    "+ **特征o1**: 用户在预测区获取的优惠券数量"
   ]
  },
  {
   "cell_type": "code",
   "execution_count": 17,
   "metadata": {},
   "outputs": [],
   "source": [
    "t = d.groupby(['User_id']).size()\n",
    "d = pd.merge(d, groupby2df(t, 'o1'), on=['User_id'], how='left')"
   ]
  },
  {
   "cell_type": "markdown",
   "metadata": {},
   "source": [
    "+ **特征o2**: 用户平均15天领取的优惠券数量"
   ]
  },
  {
   "cell_type": "code",
   "execution_count": 18,
   "metadata": {},
   "outputs": [],
   "source": [
    "d['o2'] = d['o1'] / 15"
   ]
  },
  {
   "cell_type": "markdown",
   "metadata": {},
   "source": [
    "+ **特征o3**: 用户平均每天领取多少张优惠券"
   ]
  },
  {
   "cell_type": "code",
   "execution_count": 19,
   "metadata": {},
   "outputs": [],
   "source": [
    "u = d[['User_id', 'o1']].drop_duplicates()\n",
    "\n",
    "t = d.groupby('User_id')['Date_received'].max()\n",
    "u = pd.merge(u, groupby2df(t, 'r_max'), on=['User_id'], how='left')\n",
    "\n",
    "t = d.groupby('User_id')['Date_received'].min()\n",
    "u = pd.merge(u, groupby2df(t, 'r_min'), on=['User_id'], how='left')\n",
    "\n",
    "u['r_day_duration'] = u.apply(lambda row: (row['r_max'] - row['r_min']).days, axis=1)\n",
    "u['o3'] = u['o1'] / u['r_day_duration']\n",
    "d = pd.merge(d, u[['User_id', 'o3']], on=['User_id'], how='left')"
   ]
  },
  {
   "cell_type": "markdown",
   "metadata": {},
   "source": [
    "+ **特征o4**:预测区用户每种类型优惠券领取的数量\n",
    "+ **特征o5**:预测区用户每种类型优惠券领取的数量在所有领取的优惠券中的比率"
   ]
  },
  {
   "cell_type": "code",
   "execution_count": 20,
   "metadata": {},
   "outputs": [],
   "source": [
    "t = d.groupby(['User_id', 'Coupon_category']).size()\n",
    "d = pd.merge(d, groupby2df(t, 'o4'), on=['User_id', 'Coupon_category'], how='left')"
   ]
  },
  {
   "cell_type": "code",
   "execution_count": 21,
   "metadata": {},
   "outputs": [],
   "source": [
    "d['o5'] = d['o4'] / d['o1']"
   ]
  },
  {
   "cell_type": "markdown",
   "metadata": {},
   "source": [
    "+ **特征o6**:预测区用户领取优惠券Coupon_id领取的数量\n",
    "+ **特征o8**:预测区用户领取优惠券Coupon_id领取的数量在所有领取的优惠券中的比率"
   ]
  },
  {
   "cell_type": "code",
   "execution_count": 22,
   "metadata": {},
   "outputs": [],
   "source": [
    "t = d.groupby(['User_id', 'Coupon_id']).size()\n",
    "d = pd.merge(d, groupby2df(t, 'o6'), on=['User_id', 'Coupon_id'], how='left')"
   ]
  },
  {
   "cell_type": "code",
   "execution_count": 23,
   "metadata": {},
   "outputs": [],
   "source": [
    "d['o8'] = d['o6'] / d['o1']"
   ]
  },
  {
   "cell_type": "markdown",
   "metadata": {},
   "source": [
    "+ **特征o7**:预测区用户领取优惠券Coupon_id在领取日领取的数量\n",
    "+ **特征o9**:预测区用户领取优惠券Coupon_id在领取日领取的数量在所有领取的优惠券中的比率"
   ]
  },
  {
   "cell_type": "code",
   "execution_count": 24,
   "metadata": {},
   "outputs": [],
   "source": [
    "t = d.groupby(['User_id', 'Coupon_id', 'Date_received']).size()\n",
    "d = pd.merge(d, groupby2df(t, 'o7'), on=['User_id', 'Coupon_id', 'Date_received'], how='left')"
   ]
  },
  {
   "cell_type": "code",
   "execution_count": 25,
   "metadata": {},
   "outputs": [],
   "source": [
    "d['o9'] = d['o7'] / d['o1']"
   ]
  },
  {
   "cell_type": "markdown",
   "metadata": {},
   "source": [
    "+ **特征o10**:预测区用户领取多少种不同的优惠券\n",
    "+ **特征o14**:预测区用户平均每个领取的优惠券领取了多少张\n",
    "+ **特征o12**:预测区用户领取的不同的优惠券占所有优惠券的比率"
   ]
  },
  {
   "cell_type": "code",
   "execution_count": 26,
   "metadata": {},
   "outputs": [],
   "source": [
    "t = d[['User_id', 'Coupon_id']].drop_duplicates()\n",
    "t = t.groupby(['User_id']).size()\n",
    "d = pd.merge(d, groupby2df(t, 'o10'), on=['User_id'], how='left')"
   ]
  },
  {
   "cell_type": "code",
   "execution_count": 27,
   "metadata": {},
   "outputs": [],
   "source": [
    "d['o12'] = d['o10'] / d['Coupon_id'].unique().size"
   ]
  },
  {
   "cell_type": "code",
   "execution_count": 28,
   "metadata": {},
   "outputs": [],
   "source": [
    "d['o14'] = d['o1'] / d['o10']"
   ]
  },
  {
   "cell_type": "markdown",
   "metadata": {},
   "source": [
    "+ **特征o11**:预测区每种优惠券被领取的张数"
   ]
  },
  {
   "cell_type": "code",
   "execution_count": 29,
   "metadata": {},
   "outputs": [],
   "source": [
    "t = dataset.groupby(['Coupon_id']).size()\n",
    "d = pd.merge(d, groupby2df(t, 'o11'), on=['Coupon_id'], how='left')"
   ]
  },
  {
   "cell_type": "markdown",
   "metadata": {},
   "source": [
    "+ **特征o13**:预测区用户领取的不同的商户数\n",
    "+ **特征o16**:预测区用户领取的不同的商户数占所有商户数的比例"
   ]
  },
  {
   "cell_type": "code",
   "execution_count": 30,
   "metadata": {},
   "outputs": [],
   "source": [
    "t = d[['User_id', 'Merchant_id']].drop_duplicates()\n",
    "t = t.groupby(['User_id']).size()\n",
    "d = pd.merge(d, groupby2df(t, 'o13'), on=['User_id'], how='left')"
   ]
  },
  {
   "cell_type": "code",
   "execution_count": 31,
   "metadata": {},
   "outputs": [],
   "source": [
    "d['o16'] = d['o13'] / d['Merchant_id'].unique().size"
   ]
  },
  {
   "cell_type": "markdown",
   "metadata": {},
   "source": [
    "+ **特征o15**:预测区用户在每个消费的商户领取的优惠券数\n",
    "+ **特征o18**:预测区用户在每个消费的商户领取的优惠券数在所有领取的优惠券中的比率"
   ]
  },
  {
   "cell_type": "code",
   "execution_count": 32,
   "metadata": {},
   "outputs": [],
   "source": [
    "t = dataset.groupby(['User_id', 'Merchant_id']).size()\n",
    "d = pd.merge(d, groupby2df(t, 'o15'), on=['User_id', 'Merchant_id'], how='left')"
   ]
  },
  {
   "cell_type": "code",
   "execution_count": 33,
   "metadata": {},
   "outputs": [],
   "source": [
    "d['o18'] = d['o15'] / d['o1']"
   ]
  },
  {
   "cell_type": "markdown",
   "metadata": {},
   "source": [
    "+ **特征o19**:预测区用户在每个距离上领取的优惠券数量\n",
    "+ **特征o20**:预测区用户在每个距离上领取的优惠券数量在所有领取的优惠券中的比率"
   ]
  },
  {
   "cell_type": "code",
   "execution_count": 34,
   "metadata": {},
   "outputs": [],
   "source": [
    "t = dataset.groupby(['User_id', 'Distance']).size()\n",
    "d = pd.merge(d, groupby2df(t, 'o19'), on=['User_id', 'Distance'], how='left')"
   ]
  },
  {
   "cell_type": "code",
   "execution_count": 35,
   "metadata": {},
   "outputs": [],
   "source": [
    "d['o20'] = d['o19'] / d['o1']"
   ]
  },
  {
   "cell_type": "markdown",
   "metadata": {},
   "source": [
    "+ **特征o21 - o23** 用户领取的优惠券距离最大、最小、平均"
   ]
  },
  {
   "cell_type": "code",
   "execution_count": 36,
   "metadata": {},
   "outputs": [],
   "source": [
    "t = dataset.groupby(['User_id'])['Distance'].max()\n",
    "d = pd.merge(d, groupby2df(t, 'o21'), on=['User_id'], how='left')"
   ]
  },
  {
   "cell_type": "code",
   "execution_count": 37,
   "metadata": {},
   "outputs": [],
   "source": [
    "t = dataset.groupby(['User_id'])['Distance'].min()\n",
    "d = pd.merge(d, groupby2df(t, 'o22'), on=['User_id'], how='left')"
   ]
  },
  {
   "cell_type": "code",
   "execution_count": 38,
   "metadata": {},
   "outputs": [],
   "source": [
    "t = dataset.groupby(['User_id'])['Distance'].mean()\n",
    "d = pd.merge(d, groupby2df(t, 'o23'), on=['User_id'], how='left')"
   ]
  },
  {
   "cell_type": "markdown",
   "metadata": {},
   "source": [
    "+ **特征o17**:预测区用户领取的不同的优惠券分类的优惠券数量\n",
    "+ **特征o24**:预测区用户领取的不同的优惠券分类的优惠券数量在所有领取的优惠券中的比率"
   ]
  },
  {
   "cell_type": "code",
   "execution_count": 39,
   "metadata": {},
   "outputs": [],
   "source": [
    "t = dataset.groupby(['User_id', 'Coupon_type']).size()\n",
    "d = pd.merge(d, groupby2df(t, 'o17'), on=['User_id', 'Coupon_type'], how='left')"
   ]
  },
  {
   "cell_type": "code",
   "execution_count": 40,
   "metadata": {},
   "outputs": [],
   "source": [
    "d['o24'] = d['o17'] / d['o1']"
   ]
  },
  {
   "cell_type": "markdown",
   "metadata": {},
   "source": [
    "+ **特征o25**:预测区用户在领取日领取的优惠券数量\n",
    "+ **特征o26**:预测区用户在领取日领取的优惠券数量在所有领取的优惠券中的比率"
   ]
  },
  {
   "cell_type": "code",
   "execution_count": 41,
   "metadata": {},
   "outputs": [],
   "source": [
    "t = d.groupby(['User_id', 'Date_received']).size()\n",
    "d = pd.merge(d, groupby2df(t, 'o25'), on=['User_id', 'Date_received'], how='left')"
   ]
  },
  {
   "cell_type": "code",
   "execution_count": 42,
   "metadata": {},
   "outputs": [],
   "source": [
    "d['o26'] = d['o25'] / d['o1']"
   ]
  },
  {
   "cell_type": "markdown",
   "metadata": {},
   "source": [
    "+ **特征o27 - o29**用户优惠券折扣的最大、最小、平均值"
   ]
  },
  {
   "cell_type": "code",
   "execution_count": 43,
   "metadata": {},
   "outputs": [],
   "source": [
    "t = d.groupby(['User_id'])['Discount'].mean()\n",
    "d = pd.merge(d, groupby2df(t, 'o27'), on=['User_id'], how='left')"
   ]
  },
  {
   "cell_type": "code",
   "execution_count": 44,
   "metadata": {},
   "outputs": [],
   "source": [
    "t = d.groupby(['User_id'])['Discount'].max()\n",
    "d = pd.merge(d, groupby2df(t, 'o28'), on=['User_id'], how='left')"
   ]
  },
  {
   "cell_type": "code",
   "execution_count": 45,
   "metadata": {},
   "outputs": [],
   "source": [
    "t = d.groupby(['User_id'])['Discount'].min()\n",
    "d = pd.merge(d, groupby2df(t, 'o29'), on=['User_id'], how='left')"
   ]
  },
  {
   "cell_type": "markdown",
   "metadata": {},
   "source": [
    "+ **特征o30**:预测区每个商户被领用的优惠券数量\n",
    "+ **特征o38**:预测区每个商户平均被每个用户领取的数量"
   ]
  },
  {
   "cell_type": "code",
   "execution_count": 46,
   "metadata": {},
   "outputs": [],
   "source": [
    "t = d.groupby(['Merchant_id']).size()\n",
    "d = pd.merge(d, groupby2df(t, 'o30'), on=['Merchant_id'], how='left')"
   ]
  },
  {
   "cell_type": "code",
   "execution_count": 47,
   "metadata": {},
   "outputs": [],
   "source": [
    "d['o38'] = d['o30'] / d['User_id'].unique().size"
   ]
  },
  {
   "cell_type": "markdown",
   "metadata": {},
   "source": [
    "+ **特征o31**:预测区用户在每周不同的weekday领取优惠券的数量\n",
    "+ **特征o39**:预测区用户在每周不同的weekday领取优惠券的数量在所有领取的优惠券中的比率\n",
    "+ **特征o40**:预测区用户在每周不同的month领取优惠券的数量\n",
    "+ **特征o41**:预测区用户在每周不同的month领取优惠券的数量在所有领取的优惠券中的比率\n",
    "+ **特征o42**:预测区用户在每周不同的day领取优惠券的数量\n",
    "+ **特征o43**:预测区用户在每周不同的day领取优惠券的数量在所有领取的优惠券中的比率"
   ]
  },
  {
   "cell_type": "code",
   "execution_count": 48,
   "metadata": {},
   "outputs": [],
   "source": [
    "t = d.groupby(['User_id', 'Weekday_of_received']).size()\n",
    "d = pd.merge(d, groupby2df(t, 'o31'), on=['User_id', 'Weekday_of_received'], how='left')"
   ]
  },
  {
   "cell_type": "code",
   "execution_count": 49,
   "metadata": {},
   "outputs": [],
   "source": [
    "d['o39'] = d['o31'] / d['o1']"
   ]
  },
  {
   "cell_type": "code",
   "execution_count": 50,
   "metadata": {},
   "outputs": [],
   "source": [
    "t = d.groupby(['User_id', 'Month_of_received']).size()\n",
    "d = pd.merge(d, groupby2df(t, 'o40'), on=['User_id', 'Month_of_received'], how='left')\n",
    "\n",
    "d['o41'] = d['o40'] / d['o1']"
   ]
  },
  {
   "cell_type": "code",
   "execution_count": 51,
   "metadata": {},
   "outputs": [],
   "source": [
    "t = d.groupby(['User_id', 'Day_of_received']).size()\n",
    "d = pd.merge(d, groupby2df(t, 'o42'), on=['User_id', 'Day_of_received'], how='left')\n",
    "\n",
    "d['o43'] = d['o42'] / d['o1']"
   ]
  },
  {
   "cell_type": "markdown",
   "metadata": {},
   "source": [
    "+ **特征o32**:预测区商户被多少不同用户领取\n",
    "+ **特征o33**:预测区商户被不同用户平均领取优惠券数量"
   ]
  },
  {
   "cell_type": "code",
   "execution_count": 52,
   "metadata": {},
   "outputs": [],
   "source": [
    "t = d[['Merchant_id', 'User_id']].drop_duplicates()\n",
    "t = t.groupby(['Merchant_id']).size()\n",
    "d = pd.merge(d, groupby2df(t, 'o32'), on=['Merchant_id'], how='left')"
   ]
  },
  {
   "cell_type": "code",
   "execution_count": 53,
   "metadata": {},
   "outputs": [],
   "source": [
    "d['o33'] = d['o30'] / d['o32']"
   ]
  },
  {
   "cell_type": "markdown",
   "metadata": {},
   "source": [
    "+ **特征o34**:每家商户有多少张不同的优惠券"
   ]
  },
  {
   "cell_type": "code",
   "execution_count": 54,
   "metadata": {},
   "outputs": [],
   "source": [
    "t = d[['Merchant_id', 'Coupon_id']].drop_duplicates()\n",
    "t = t.groupby(['Merchant_id']).size()\n",
    "d = pd.merge(d, groupby2df(t, 'o34'), on=['Merchant_id'], how='left')"
   ]
  },
  {
   "cell_type": "markdown",
   "metadata": {},
   "source": [
    "+ **特征o35**:每张优惠券被多少不同的人领取了\n",
    "+ **特征o36**:每张优惠券平均被每个领用的用户领取了多少张\n",
    "+ **特征o37**:每张优惠券平均被每个用户领取了多少张"
   ]
  },
  {
   "cell_type": "code",
   "execution_count": 55,
   "metadata": {},
   "outputs": [],
   "source": [
    "t = d[['Coupon_id', 'User_id']].drop_duplicates()\n",
    "t = t.groupby(['Coupon_id']).size()\n",
    "d = pd.merge(d, groupby2df(t, 'o35'), on=['Coupon_id'], how='left')"
   ]
  },
  {
   "cell_type": "code",
   "execution_count": 56,
   "metadata": {},
   "outputs": [],
   "source": [
    "d['o36'] = d['o11'] / d['o35']"
   ]
  },
  {
   "cell_type": "code",
   "execution_count": 57,
   "metadata": {},
   "outputs": [],
   "source": [
    "d['o37'] = d['o11'] / d['User_id'].unique().size"
   ]
  },
  {
   "cell_type": "markdown",
   "metadata": {},
   "source": [
    "+ **特征o44**:预测区用户next duration小于16天的次数"
   ]
  },
  {
   "cell_type": "code",
   "execution_count": 58,
   "metadata": {},
   "outputs": [],
   "source": [
    "t = d[d['Next_duration']<16]\n",
    "t = t.groupby(['User_id'])['Next_duration'].size()\n",
    "d = pd.merge(d, groupby2df(t, 'o44'), on=['User_id'], how='left')"
   ]
  },
  {
   "cell_type": "code",
   "execution_count": 59,
   "metadata": {},
   "outputs": [],
   "source": [
    "d = d.replace([np.inf, -np.inf], np.nan)"
   ]
  },
  {
   "cell_type": "code",
   "execution_count": 60,
   "metadata": {},
   "outputs": [],
   "source": [
    "dataset = d.copy()"
   ]
  },
  {
   "cell_type": "markdown",
   "metadata": {},
   "source": [
    "### Label抽取"
   ]
  },
  {
   "cell_type": "code",
   "execution_count": 61,
   "metadata": {},
   "outputs": [],
   "source": [
    "if not IS_PRED:\n",
    "    dataset['Duration'] = dataset.apply(lambda row: (row['Date'] - row['Date_received']).days, axis=1)\n",
    "    dataset['Label'] = dataset.apply(lambda row: 1 if row['Duration'] < 16 else 0, axis=1)"
   ]
  },
  {
   "cell_type": "code",
   "execution_count": 62,
   "metadata": {},
   "outputs": [
    {
     "data": {
      "text/html": [
       "<div>\n",
       "<style scoped>\n",
       "    .dataframe tbody tr th:only-of-type {\n",
       "        vertical-align: middle;\n",
       "    }\n",
       "\n",
       "    .dataframe tbody tr th {\n",
       "        vertical-align: top;\n",
       "    }\n",
       "\n",
       "    .dataframe thead th {\n",
       "        text-align: right;\n",
       "    }\n",
       "</style>\n",
       "<table border=\"1\" class=\"dataframe\">\n",
       "  <thead>\n",
       "    <tr style=\"text-align: right;\">\n",
       "      <th></th>\n",
       "      <th>User_id</th>\n",
       "      <th>Merchant_id</th>\n",
       "      <th>Coupon_id</th>\n",
       "      <th>Discount_rate</th>\n",
       "      <th>Distance</th>\n",
       "      <th>Date_received</th>\n",
       "      <th>Month_of_received</th>\n",
       "      <th>Day_of_received</th>\n",
       "      <th>Weekday_of_received</th>\n",
       "      <th>Base_consume</th>\n",
       "      <th>...</th>\n",
       "      <th>o41</th>\n",
       "      <th>o42</th>\n",
       "      <th>o43</th>\n",
       "      <th>o32</th>\n",
       "      <th>o33</th>\n",
       "      <th>o34</th>\n",
       "      <th>o35</th>\n",
       "      <th>o36</th>\n",
       "      <th>o37</th>\n",
       "      <th>o44</th>\n",
       "    </tr>\n",
       "  </thead>\n",
       "  <tbody>\n",
       "    <tr>\n",
       "      <th>0</th>\n",
       "      <td>209</td>\n",
       "      <td>5032</td>\n",
       "      <td>7557</td>\n",
       "      <td>20:5</td>\n",
       "      <td>2.0</td>\n",
       "      <td>2016-07-21</td>\n",
       "      <td>7</td>\n",
       "      <td>21</td>\n",
       "      <td>4</td>\n",
       "      <td>20.0</td>\n",
       "      <td>...</td>\n",
       "      <td>1.0</td>\n",
       "      <td>2</td>\n",
       "      <td>1.0</td>\n",
       "      <td>34</td>\n",
       "      <td>2.794118</td>\n",
       "      <td>5</td>\n",
       "      <td>25</td>\n",
       "      <td>1.000000</td>\n",
       "      <td>0.000328</td>\n",
       "      <td>2</td>\n",
       "    </tr>\n",
       "    <tr>\n",
       "      <th>1</th>\n",
       "      <td>209</td>\n",
       "      <td>5032</td>\n",
       "      <td>825</td>\n",
       "      <td>20:5</td>\n",
       "      <td>2.0</td>\n",
       "      <td>2016-07-21</td>\n",
       "      <td>7</td>\n",
       "      <td>21</td>\n",
       "      <td>4</td>\n",
       "      <td>20.0</td>\n",
       "      <td>...</td>\n",
       "      <td>1.0</td>\n",
       "      <td>2</td>\n",
       "      <td>1.0</td>\n",
       "      <td>34</td>\n",
       "      <td>2.794118</td>\n",
       "      <td>5</td>\n",
       "      <td>24</td>\n",
       "      <td>1.583333</td>\n",
       "      <td>0.000498</td>\n",
       "      <td>2</td>\n",
       "    </tr>\n",
       "    <tr>\n",
       "      <th>2</th>\n",
       "      <td>215</td>\n",
       "      <td>599</td>\n",
       "      <td>5488</td>\n",
       "      <td>20:1</td>\n",
       "      <td>0.0</td>\n",
       "      <td>2016-07-03</td>\n",
       "      <td>7</td>\n",
       "      <td>3</td>\n",
       "      <td>7</td>\n",
       "      <td>20.0</td>\n",
       "      <td>...</td>\n",
       "      <td>1.0</td>\n",
       "      <td>1</td>\n",
       "      <td>1.0</td>\n",
       "      <td>34</td>\n",
       "      <td>1.294118</td>\n",
       "      <td>2</td>\n",
       "      <td>32</td>\n",
       "      <td>1.312500</td>\n",
       "      <td>0.000550</td>\n",
       "      <td>1</td>\n",
       "    </tr>\n",
       "    <tr>\n",
       "      <th>3</th>\n",
       "      <td>316</td>\n",
       "      <td>2436</td>\n",
       "      <td>3992</td>\n",
       "      <td>30:5</td>\n",
       "      <td>1.0</td>\n",
       "      <td>2016-07-21</td>\n",
       "      <td>7</td>\n",
       "      <td>21</td>\n",
       "      <td>4</td>\n",
       "      <td>30.0</td>\n",
       "      <td>...</td>\n",
       "      <td>1.0</td>\n",
       "      <td>1</td>\n",
       "      <td>1.0</td>\n",
       "      <td>1970</td>\n",
       "      <td>1.050761</td>\n",
       "      <td>6</td>\n",
       "      <td>1650</td>\n",
       "      <td>1.000000</td>\n",
       "      <td>0.021623</td>\n",
       "      <td>1</td>\n",
       "    </tr>\n",
       "    <tr>\n",
       "      <th>4</th>\n",
       "      <td>417</td>\n",
       "      <td>3507</td>\n",
       "      <td>12465</td>\n",
       "      <td>50:1</td>\n",
       "      <td>1.0</td>\n",
       "      <td>2016-07-12</td>\n",
       "      <td>7</td>\n",
       "      <td>12</td>\n",
       "      <td>2</td>\n",
       "      <td>50.0</td>\n",
       "      <td>...</td>\n",
       "      <td>1.0</td>\n",
       "      <td>1</td>\n",
       "      <td>1.0</td>\n",
       "      <td>42</td>\n",
       "      <td>1.071429</td>\n",
       "      <td>1</td>\n",
       "      <td>42</td>\n",
       "      <td>1.071429</td>\n",
       "      <td>0.000590</td>\n",
       "      <td>1</td>\n",
       "    </tr>\n",
       "    <tr>\n",
       "      <th>5</th>\n",
       "      <td>432</td>\n",
       "      <td>2050</td>\n",
       "      <td>10438</td>\n",
       "      <td>200:20</td>\n",
       "      <td>3.0</td>\n",
       "      <td>2016-07-06</td>\n",
       "      <td>7</td>\n",
       "      <td>6</td>\n",
       "      <td>3</td>\n",
       "      <td>200.0</td>\n",
       "      <td>...</td>\n",
       "      <td>1.0</td>\n",
       "      <td>1</td>\n",
       "      <td>1.0</td>\n",
       "      <td>4472</td>\n",
       "      <td>1.074016</td>\n",
       "      <td>6</td>\n",
       "      <td>4212</td>\n",
       "      <td>1.000712</td>\n",
       "      <td>0.055236</td>\n",
       "      <td>1</td>\n",
       "    </tr>\n",
       "    <tr>\n",
       "      <th>6</th>\n",
       "      <td>448</td>\n",
       "      <td>760</td>\n",
       "      <td>13602</td>\n",
       "      <td>30:5</td>\n",
       "      <td>1.0</td>\n",
       "      <td>2016-07-01</td>\n",
       "      <td>7</td>\n",
       "      <td>1</td>\n",
       "      <td>5</td>\n",
       "      <td>30.0</td>\n",
       "      <td>...</td>\n",
       "      <td>1.0</td>\n",
       "      <td>1</td>\n",
       "      <td>0.2</td>\n",
       "      <td>29876</td>\n",
       "      <td>1.002745</td>\n",
       "      <td>6</td>\n",
       "      <td>29846</td>\n",
       "      <td>1.001307</td>\n",
       "      <td>0.391631</td>\n",
       "      <td>5</td>\n",
       "    </tr>\n",
       "    <tr>\n",
       "      <th>7</th>\n",
       "      <td>448</td>\n",
       "      <td>1482</td>\n",
       "      <td>10927</td>\n",
       "      <td>0.95</td>\n",
       "      <td>1.0</td>\n",
       "      <td>2016-07-04</td>\n",
       "      <td>7</td>\n",
       "      <td>4</td>\n",
       "      <td>1</td>\n",
       "      <td>0.0</td>\n",
       "      <td>...</td>\n",
       "      <td>1.0</td>\n",
       "      <td>1</td>\n",
       "      <td>0.2</td>\n",
       "      <td>1</td>\n",
       "      <td>4.000000</td>\n",
       "      <td>1</td>\n",
       "      <td>1</td>\n",
       "      <td>4.000000</td>\n",
       "      <td>0.000052</td>\n",
       "      <td>5</td>\n",
       "    </tr>\n",
       "    <tr>\n",
       "      <th>8</th>\n",
       "      <td>448</td>\n",
       "      <td>1482</td>\n",
       "      <td>10927</td>\n",
       "      <td>0.95</td>\n",
       "      <td>1.0</td>\n",
       "      <td>2016-07-06</td>\n",
       "      <td>7</td>\n",
       "      <td>6</td>\n",
       "      <td>3</td>\n",
       "      <td>0.0</td>\n",
       "      <td>...</td>\n",
       "      <td>1.0</td>\n",
       "      <td>1</td>\n",
       "      <td>0.2</td>\n",
       "      <td>1</td>\n",
       "      <td>4.000000</td>\n",
       "      <td>1</td>\n",
       "      <td>1</td>\n",
       "      <td>4.000000</td>\n",
       "      <td>0.000052</td>\n",
       "      <td>5</td>\n",
       "    </tr>\n",
       "    <tr>\n",
       "      <th>9</th>\n",
       "      <td>448</td>\n",
       "      <td>1482</td>\n",
       "      <td>10927</td>\n",
       "      <td>0.95</td>\n",
       "      <td>1.0</td>\n",
       "      <td>2016-07-07</td>\n",
       "      <td>7</td>\n",
       "      <td>7</td>\n",
       "      <td>4</td>\n",
       "      <td>0.0</td>\n",
       "      <td>...</td>\n",
       "      <td>1.0</td>\n",
       "      <td>1</td>\n",
       "      <td>0.2</td>\n",
       "      <td>1</td>\n",
       "      <td>4.000000</td>\n",
       "      <td>1</td>\n",
       "      <td>1</td>\n",
       "      <td>4.000000</td>\n",
       "      <td>0.000052</td>\n",
       "      <td>5</td>\n",
       "    </tr>\n",
       "  </tbody>\n",
       "</table>\n",
       "<p>10 rows × 64 columns</p>\n",
       "</div>"
      ],
      "text/plain": [
       "   User_id  Merchant_id  Coupon_id Discount_rate  Distance Date_received  \\\n",
       "0      209         5032       7557          20:5       2.0    2016-07-21   \n",
       "1      209         5032        825          20:5       2.0    2016-07-21   \n",
       "2      215          599       5488          20:1       0.0    2016-07-03   \n",
       "3      316         2436       3992          30:5       1.0    2016-07-21   \n",
       "4      417         3507      12465          50:1       1.0    2016-07-12   \n",
       "5      432         2050      10438        200:20       3.0    2016-07-06   \n",
       "6      448          760      13602          30:5       1.0    2016-07-01   \n",
       "7      448         1482      10927          0.95       1.0    2016-07-04   \n",
       "8      448         1482      10927          0.95       1.0    2016-07-06   \n",
       "9      448         1482      10927          0.95       1.0    2016-07-07   \n",
       "\n",
       "   Month_of_received  Day_of_received  Weekday_of_received  Base_consume ...   \\\n",
       "0                  7               21                    4          20.0 ...    \n",
       "1                  7               21                    4          20.0 ...    \n",
       "2                  7                3                    7          20.0 ...    \n",
       "3                  7               21                    4          30.0 ...    \n",
       "4                  7               12                    2          50.0 ...    \n",
       "5                  7                6                    3         200.0 ...    \n",
       "6                  7                1                    5          30.0 ...    \n",
       "7                  7                4                    1           0.0 ...    \n",
       "8                  7                6                    3           0.0 ...    \n",
       "9                  7                7                    4           0.0 ...    \n",
       "\n",
       "   o41  o42  o43    o32       o33 o34    o35       o36       o37  o44  \n",
       "0  1.0    2  1.0     34  2.794118   5     25  1.000000  0.000328    2  \n",
       "1  1.0    2  1.0     34  2.794118   5     24  1.583333  0.000498    2  \n",
       "2  1.0    1  1.0     34  1.294118   2     32  1.312500  0.000550    1  \n",
       "3  1.0    1  1.0   1970  1.050761   6   1650  1.000000  0.021623    1  \n",
       "4  1.0    1  1.0     42  1.071429   1     42  1.071429  0.000590    1  \n",
       "5  1.0    1  1.0   4472  1.074016   6   4212  1.000712  0.055236    1  \n",
       "6  1.0    1  0.2  29876  1.002745   6  29846  1.001307  0.391631    5  \n",
       "7  1.0    1  0.2      1  4.000000   1      1  4.000000  0.000052    5  \n",
       "8  1.0    1  0.2      1  4.000000   1      1  4.000000  0.000052    5  \n",
       "9  1.0    1  0.2      1  4.000000   1      1  4.000000  0.000052    5  \n",
       "\n",
       "[10 rows x 64 columns]"
      ]
     },
     "execution_count": 62,
     "metadata": {},
     "output_type": "execute_result"
    }
   ],
   "source": [
    "dataset.head(10)"
   ]
  },
  {
   "cell_type": "markdown",
   "metadata": {},
   "source": [
    "## 用户特征抽取"
   ]
  },
  {
   "cell_type": "code",
   "execution_count": 63,
   "metadata": {},
   "outputs": [],
   "source": [
    "def get_count(df, keys, suffix):\n",
    "    if 'Coupon_id' not in keys and 'Discount_rate' not in keys:\n",
    "        t = full.groupby(keys).size()\n",
    "        df = pd.merge(df, groupby2df(t, suffix+'0'), on=keys, how='left')\n",
    "    \n",
    "    t = receive.groupby(keys).size()\n",
    "    df = pd.merge(df, groupby2df(t, suffix+'1'), on=keys, how='left')\n",
    "\n",
    "    t = consume.groupby(keys).size()\n",
    "    df = pd.merge(df, groupby2df(t, suffix+'2'), on=keys, how='left')\n",
    "\n",
    "    t = use.groupby(keys).size()\n",
    "    df = pd.merge(df, groupby2df(t, suffix+'3'), on=keys, how='left')\n",
    "\n",
    "    df[suffix+'4'] = df[suffix+'1'] - df[suffix+'3']\n",
    "    df[suffix+'5'] = df[suffix+'1'] - df[suffix+'2']\n",
    "    \n",
    "    df[suffix+'6'] = df[suffix+'3'] / df[suffix+'4']\n",
    "    df[suffix+'7'] = df[suffix+'2'] / df[suffix+'5']\n",
    "    return df"
   ]
  },
  {
   "cell_type": "code",
   "execution_count": 64,
   "metadata": {},
   "outputs": [],
   "source": [
    "def process_mean_max_min(d, df, keys, column_name, prefix, count):\n",
    "    t = d.groupby(keys)[column_name].mean()\n",
    "    df = pd.merge(df, groupby2df(t, prefix+str(count)), on=keys, how='left')\n",
    "\n",
    "    count = count + 1\n",
    "    t = d.groupby(keys)[column_name].max()\n",
    "    df = pd.merge(df, groupby2df(t, prefix+str(count)), on=keys, how='left')\n",
    "\n",
    "    count = count + 1\n",
    "    t = d.groupby(keys)[column_name].min()\n",
    "    df = pd.merge(df, groupby2df(t, prefix+str(count)), on=keys, how='left')\n",
    "    return df"
   ]
  },
  {
   "cell_type": "code",
   "execution_count": 65,
   "metadata": {},
   "outputs": [],
   "source": [
    "def get_unique_size(d, df, groups, keys, column_name):\n",
    "    t = d[groups].drop_duplicates()\n",
    "    t = t.groupby(keys).size()\n",
    "    df = pd.merge(df, groupby2df(t, column_name), on=keys, how='left')\n",
    "    return df"
   ]
  },
  {
   "cell_type": "markdown",
   "metadata": {},
   "source": [
    "### 拆分特征数据集合"
   ]
  },
  {
   "cell_type": "code",
   "execution_count": 66,
   "metadata": {},
   "outputs": [
    {
     "name": "stderr",
     "output_type": "stream",
     "text": [
      "/Users/leewind/.local/share/virtualenvs/leewind-p6XO93Th/lib/python3.7/site-packages/ipykernel_launcher.py:2: SettingWithCopyWarning: \n",
      "A value is trying to be set on a copy of a slice from a DataFrame.\n",
      "Try using .loc[row_indexer,col_indexer] = value instead\n",
      "\n",
      "See the caveats in the documentation: http://pandas.pydata.org/pandas-docs/stable/indexing.html#indexing-view-versus-copy\n",
      "  \n",
      "/Users/leewind/.local/share/virtualenvs/leewind-p6XO93Th/lib/python3.7/site-packages/ipykernel_launcher.py:3: SettingWithCopyWarning: \n",
      "A value is trying to be set on a copy of a slice from a DataFrame.\n",
      "Try using .loc[row_indexer,col_indexer] = value instead\n",
      "\n",
      "See the caveats in the documentation: http://pandas.pydata.org/pandas-docs/stable/indexing.html#indexing-view-versus-copy\n",
      "  This is separate from the ipykernel package so we can avoid doing imports until\n",
      "/Users/leewind/.local/share/virtualenvs/leewind-p6XO93Th/lib/python3.7/site-packages/ipykernel_launcher.py:5: SettingWithCopyWarning: \n",
      "A value is trying to be set on a copy of a slice from a DataFrame.\n",
      "Try using .loc[row_indexer,col_indexer] = value instead\n",
      "\n",
      "See the caveats in the documentation: http://pandas.pydata.org/pandas-docs/stable/indexing.html#indexing-view-versus-copy\n",
      "  \"\"\"\n",
      "/Users/leewind/.local/share/virtualenvs/leewind-p6XO93Th/lib/python3.7/site-packages/ipykernel_launcher.py:6: SettingWithCopyWarning: \n",
      "A value is trying to be set on a copy of a slice from a DataFrame.\n",
      "Try using .loc[row_indexer,col_indexer] = value instead\n",
      "\n",
      "See the caveats in the documentation: http://pandas.pydata.org/pandas-docs/stable/indexing.html#indexing-view-versus-copy\n",
      "  \n",
      "/Users/leewind/.local/share/virtualenvs/leewind-p6XO93Th/lib/python3.7/site-packages/ipykernel_launcher.py:7: SettingWithCopyWarning: \n",
      "A value is trying to be set on a copy of a slice from a DataFrame.\n",
      "Try using .loc[row_indexer,col_indexer] = value instead\n",
      "\n",
      "See the caveats in the documentation: http://pandas.pydata.org/pandas-docs/stable/indexing.html#indexing-view-versus-copy\n",
      "  import sys\n",
      "/Users/leewind/.local/share/virtualenvs/leewind-p6XO93Th/lib/python3.7/site-packages/ipykernel_launcher.py:9: SettingWithCopyWarning: \n",
      "A value is trying to be set on a copy of a slice from a DataFrame.\n",
      "Try using .loc[row_indexer,col_indexer] = value instead\n",
      "\n",
      "See the caveats in the documentation: http://pandas.pydata.org/pandas-docs/stable/indexing.html#indexing-view-versus-copy\n",
      "  if __name__ == '__main__':\n",
      "/Users/leewind/.local/share/virtualenvs/leewind-p6XO93Th/lib/python3.7/site-packages/ipykernel_launcher.py:10: SettingWithCopyWarning: \n",
      "A value is trying to be set on a copy of a slice from a DataFrame.\n",
      "Try using .loc[row_indexer,col_indexer] = value instead\n",
      "\n",
      "See the caveats in the documentation: http://pandas.pydata.org/pandas-docs/stable/indexing.html#indexing-view-versus-copy\n",
      "  # Remove the CWD from sys.path while we load stuff.\n",
      "/Users/leewind/.local/share/virtualenvs/leewind-p6XO93Th/lib/python3.7/site-packages/ipykernel_launcher.py:11: SettingWithCopyWarning: \n",
      "A value is trying to be set on a copy of a slice from a DataFrame.\n",
      "Try using .loc[row_indexer,col_indexer] = value instead\n",
      "\n",
      "See the caveats in the documentation: http://pandas.pydata.org/pandas-docs/stable/indexing.html#indexing-view-versus-copy\n",
      "  # This is added back by InteractiveShellApp.init_path()\n",
      "/Users/leewind/.local/share/virtualenvs/leewind-p6XO93Th/lib/python3.7/site-packages/ipykernel_launcher.py:12: SettingWithCopyWarning: \n",
      "A value is trying to be set on a copy of a slice from a DataFrame.\n",
      "Try using .loc[row_indexer,col_indexer] = value instead\n",
      "\n",
      "See the caveats in the documentation: http://pandas.pydata.org/pandas-docs/stable/indexing.html#indexing-view-versus-copy\n",
      "  if sys.path[0] == '':\n",
      "/Users/leewind/.local/share/virtualenvs/leewind-p6XO93Th/lib/python3.7/site-packages/ipykernel_launcher.py:13: SettingWithCopyWarning: \n",
      "A value is trying to be set on a copy of a slice from a DataFrame.\n",
      "Try using .loc[row_indexer,col_indexer] = value instead\n",
      "\n",
      "See the caveats in the documentation: http://pandas.pydata.org/pandas-docs/stable/indexing.html#indexing-view-versus-copy\n",
      "  del sys.path[0]\n"
     ]
    }
   ],
   "source": [
    "feature_alpha_offline = extract_basic_info(feature_alpha_offline)\n",
    "\n",
    "feature_alpha_offline['Duration'] = feature_alpha_offline.apply(lambda row: (row['Date'] - row['Date_received']).days, axis=1)\n",
    "feature_alpha_offline['Label'] = feature_alpha_offline.apply(lambda row: 1 if row['Duration'] < 16 else 0, axis=1)"
   ]
  },
  {
   "cell_type": "code",
   "execution_count": 67,
   "metadata": {},
   "outputs": [],
   "source": [
    "full = feature_alpha_offline[feature_alpha_offline.Coupon_id.isnull()].copy()\n",
    "receive = feature_alpha_offline[feature_alpha_offline.Coupon_id>0].copy()\n",
    "consume = receive[receive.Duration >= 0].copy()\n",
    "use = receive[receive.Label==1].copy()"
   ]
  },
  {
   "cell_type": "markdown",
   "metadata": {},
   "source": [
    "### 用户特征"
   ]
  },
  {
   "cell_type": "code",
   "execution_count": 68,
   "metadata": {},
   "outputs": [],
   "source": [
    "u = feature_alpha_offline[feature_alpha_offline['Coupon_id']>0][['User_id']].drop_duplicates()"
   ]
  },
  {
   "cell_type": "markdown",
   "metadata": {},
   "source": [
    "+ **特征u1**:用户领取优惠券的数量\n",
    "+ **特征u2**:用户消费优惠券的数量\n",
    "+ **特征u3**:用户15天内消费优惠券的数量\n",
    "+ **特征u4**:用户15天内没有消费优惠券的数量\n",
    "+ **特征u5**:用户用户没有消费优惠券的数量\n",
    "+ **特征u6**:用户15天内消费优惠券的数量 比 用户15天内没有消费优惠券的数量\n",
    "+ **特征u7**:用户消费优惠券的数量 比 用户用户没有消费优惠券的数量"
   ]
  },
  {
   "cell_type": "code",
   "execution_count": 69,
   "metadata": {},
   "outputs": [],
   "source": [
    "u = get_count(u, ['User_id'], 'u')"
   ]
  },
  {
   "cell_type": "markdown",
   "metadata": {},
   "source": [
    "+ **特征u8**:用户消费优惠券消费天数的平均值\n",
    "+ **特征u9**:用户消费优惠券消费天数的最大值\n",
    "+ **特征u10**:用户消费优惠券消费天数的最小值"
   ]
  },
  {
   "cell_type": "code",
   "execution_count": 70,
   "metadata": {},
   "outputs": [],
   "source": [
    "u = process_mean_max_min(consume, u, ['User_id'], 'Duration', 'u', 8)"
   ]
  },
  {
   "cell_type": "markdown",
   "metadata": {},
   "source": [
    "+ **特征u11**:用户消费优惠券折扣率的平均值\n",
    "+ **特征u12**:用户消费优惠券折扣率的最大值\n",
    "+ **特征u13**:用户消费优惠券折扣率的最小值"
   ]
  },
  {
   "cell_type": "code",
   "execution_count": 71,
   "metadata": {},
   "outputs": [],
   "source": [
    "u = process_mean_max_min(consume, u, ['User_id'], 'Discount', 'u', 11)"
   ]
  },
  {
   "cell_type": "markdown",
   "metadata": {},
   "source": [
    "+ **特征u14**:用户消费多少种不同优惠券\n",
    "+ **特征u15**:用户15天内消费多少种不同优惠券"
   ]
  },
  {
   "cell_type": "code",
   "execution_count": 72,
   "metadata": {},
   "outputs": [],
   "source": [
    "u = get_unique_size(consume, u, ['User_id', 'Coupon_id'], ['User_id'], 'u14')\n",
    "u = get_unique_size(use, u, ['User_id', 'Coupon_id'], ['User_id'], 'u15')"
   ]
  },
  {
   "cell_type": "markdown",
   "metadata": {},
   "source": [
    "+ **特征u16**:用户消费多少个不同商家的优惠券\n",
    "+ **特征u17**:用户15天内消费多少个不同商家的优惠券"
   ]
  },
  {
   "cell_type": "code",
   "execution_count": 73,
   "metadata": {},
   "outputs": [],
   "source": [
    "u = get_unique_size(consume, u, ['User_id', 'Merchant_id'], ['User_id'], 'u16')\n",
    "u = get_unique_size(use, u, ['User_id', 'Merchant_id'], ['User_id'], 'u17')"
   ]
  },
  {
   "cell_type": "markdown",
   "metadata": {},
   "source": [
    "+ **特征u18**:用户15天内消费优惠券的核销率\n",
    "+ **特征u19**:用户消费优惠券的核销率\n",
    "+ **特征u20**:用户15天内平均消费领取天数在15天内的优惠券的数量\n",
    "+ **特征u21**:用户15天内平均消费优惠券的数量\n",
    "+ **特征u22**:用户15天内平均领取优惠券的数量"
   ]
  },
  {
   "cell_type": "code",
   "execution_count": 74,
   "metadata": {},
   "outputs": [],
   "source": [
    "u['u18'] = u['u3'] / u['u1']\n",
    "u['u19'] = u['u2'] / u['u1']\n",
    "\n",
    "u['u20'] = u['u3'] / 15\n",
    "u['u21'] = u['u2'] / 15\n",
    "u['u22'] = u['u1'] / 15"
   ]
  },
  {
   "cell_type": "code",
   "execution_count": 75,
   "metadata": {},
   "outputs": [],
   "source": [
    "u = process_mean_max_min(use, u, ['User_id'], 'Duration', 'u', 23)"
   ]
  },
  {
   "cell_type": "code",
   "execution_count": 76,
   "metadata": {},
   "outputs": [],
   "source": [
    "dataset = pd.merge(dataset, u, on=['User_id'], how='left')"
   ]
  },
  {
   "cell_type": "markdown",
   "metadata": {},
   "source": [
    "### 用户-优惠券分类特征"
   ]
  },
  {
   "cell_type": "code",
   "execution_count": 77,
   "metadata": {},
   "outputs": [],
   "source": [
    "ucc = feature_alpha_offline[feature_alpha_offline['Coupon_id']>0][['User_id', 'Coupon_category']].drop_duplicates()"
   ]
  },
  {
   "cell_type": "code",
   "execution_count": 78,
   "metadata": {},
   "outputs": [],
   "source": [
    "ucc = get_count(ucc, ['User_id', 'Coupon_category'], 'ucc')"
   ]
  },
  {
   "cell_type": "code",
   "execution_count": 79,
   "metadata": {},
   "outputs": [],
   "source": [
    "ucc = process_mean_max_min(consume, ucc, ['User_id', 'Coupon_category'], 'Duration', 'ucc', 8)"
   ]
  },
  {
   "cell_type": "code",
   "execution_count": 80,
   "metadata": {},
   "outputs": [],
   "source": [
    "dataset = pd.merge(dataset, ucc, on=['User_id', 'Coupon_category'], how='left')"
   ]
  },
  {
   "cell_type": "code",
   "execution_count": 81,
   "metadata": {},
   "outputs": [],
   "source": [
    "dataset['ucc11'] = dataset['ucc3'] / dataset['u1']\n",
    "dataset['ucc12'] = dataset['ucc2'] / dataset['u1']"
   ]
  },
  {
   "cell_type": "markdown",
   "metadata": {},
   "source": [
    "### 用户 - 优惠券特征"
   ]
  },
  {
   "cell_type": "code",
   "execution_count": 82,
   "metadata": {},
   "outputs": [],
   "source": [
    "uc = feature_alpha_offline[feature_alpha_offline['Coupon_id']>0][['User_id', 'Coupon_id']].drop_duplicates()"
   ]
  },
  {
   "cell_type": "markdown",
   "metadata": {},
   "source": [
    "+ **特征uc1**:不同coupon_id,用户领取优惠券的数量\n",
    "+ **特征uc2**:不同coupon_id,用户消费优惠券的数量\n",
    "+ **特征uc3**:不同coupon_id,用户15天内消费优惠券的数量\n",
    "+ **特征uc4**:不同coupon_id,用户15天内没有消费优惠券的数量\n",
    "+ **特征uc5**:不同coupon_id,用户用户没有消费优惠券的数量\n",
    "+ **特征uc6**:不同coupon_id,用户15天内消费优惠券的数量 比 用户15天内没有消费优惠券的数量\n",
    "+ **特征uc7**:不同coupon_id,用户消费优惠券的数量 比 用户用户没有消费优惠券的数量"
   ]
  },
  {
   "cell_type": "code",
   "execution_count": 83,
   "metadata": {},
   "outputs": [],
   "source": [
    "uc = get_count(uc, ['User_id', 'Coupon_id'], 'uc')"
   ]
  },
  {
   "cell_type": "markdown",
   "metadata": {},
   "source": [
    "+ **特征uc8**:不同coupon_id,用户消费优惠券消费天数的平均值\n",
    "+ **特征uc9**:不同coupon_id,用户消费优惠券消费天数的最大值\n",
    "+ **特征uc10**:不同coupon_id,用户消费优惠券消费天数的最小值"
   ]
  },
  {
   "cell_type": "code",
   "execution_count": 84,
   "metadata": {},
   "outputs": [],
   "source": [
    "uc = process_mean_max_min(consume, uc, ['User_id', 'Coupon_id'], 'Duration', 'uc', 8)"
   ]
  },
  {
   "cell_type": "code",
   "execution_count": 85,
   "metadata": {},
   "outputs": [],
   "source": [
    "dataset = pd.merge(dataset, uc, on=['User_id', 'Coupon_id'], how='left')"
   ]
  },
  {
   "cell_type": "markdown",
   "metadata": {},
   "source": [
    "+ **特征uc11**:不同coupon_id,用户15天内消费优惠券的核销率\n",
    "+ **特征uc12**:不同coupon_id,用户消费优惠券的核销率"
   ]
  },
  {
   "cell_type": "code",
   "execution_count": 86,
   "metadata": {},
   "outputs": [],
   "source": [
    "dataset['uc11'] = dataset['uc3'] / dataset['u1']\n",
    "dataset['uc12'] = dataset['uc2'] / dataset['u1']"
   ]
  },
  {
   "cell_type": "markdown",
   "metadata": {},
   "source": [
    "### 用户 - 距离特征"
   ]
  },
  {
   "cell_type": "code",
   "execution_count": 87,
   "metadata": {},
   "outputs": [],
   "source": [
    "ud = feature_alpha_offline[feature_alpha_offline['Coupon_id']>0][['User_id', 'Distance']].drop_duplicates()"
   ]
  },
  {
   "cell_type": "code",
   "execution_count": 88,
   "metadata": {},
   "outputs": [],
   "source": [
    "ud = get_count(ud, ['User_id', 'Distance'], 'ud')"
   ]
  },
  {
   "cell_type": "code",
   "execution_count": 89,
   "metadata": {},
   "outputs": [],
   "source": [
    "ud = process_mean_max_min(consume, ud, ['User_id', 'Distance'], 'Duration', 'ud', 8)"
   ]
  },
  {
   "cell_type": "code",
   "execution_count": 90,
   "metadata": {},
   "outputs": [],
   "source": [
    "dataset = pd.merge(dataset, ud, on=['User_id', 'Distance'], how='left')"
   ]
  },
  {
   "cell_type": "code",
   "execution_count": 91,
   "metadata": {},
   "outputs": [],
   "source": [
    "dataset['ud11'] = dataset['ud3'] / dataset['u1']\n",
    "dataset['ud12'] = dataset['ud2'] / dataset['u1']"
   ]
  },
  {
   "cell_type": "markdown",
   "metadata": {},
   "source": [
    "### 用户 - 商户特征"
   ]
  },
  {
   "cell_type": "code",
   "execution_count": 92,
   "metadata": {},
   "outputs": [],
   "source": [
    "um = feature_alpha_offline[feature_alpha_offline['Coupon_id']>0][['User_id', 'Merchant_id']].drop_duplicates()"
   ]
  },
  {
   "cell_type": "markdown",
   "metadata": {},
   "source": [
    "+ **特征um1**:不同merchant_id,用户领取优惠券的数量\n",
    "+ **特征um2**:不同merchant_id,用户消费优惠券的数量\n",
    "+ **特征um3**:不同merchant_id,用户15天内消费优惠券的数量\n",
    "+ **特征um4**:不同merchant_id,用户15天内没有消费优惠券的数量\n",
    "+ **特征um5**:不同merchant_id,用户用户没有消费优惠券的数量\n",
    "+ **特征um6**:不同merchant_id,用户15天内消费优惠券的数量 比 用户15天内没有消费优惠券的数量\n",
    "+ **特征um7**:不同merchant_id,用户消费优惠券的数量 比 用户用户没有消费优惠券的数量"
   ]
  },
  {
   "cell_type": "code",
   "execution_count": 93,
   "metadata": {},
   "outputs": [],
   "source": [
    "um = get_count(um, ['User_id', 'Merchant_id'], 'um')"
   ]
  },
  {
   "cell_type": "markdown",
   "metadata": {},
   "source": [
    "+ **特征um8**:不同merchant_id,用户消费优惠券消费天数的平均值\n",
    "+ **特征um9**:不同merchant_id,用户消费优惠券消费天数的最大值\n",
    "+ **特征um10**:不同merchant_id,用户消费优惠券消费天数的最小值"
   ]
  },
  {
   "cell_type": "code",
   "execution_count": 94,
   "metadata": {},
   "outputs": [],
   "source": [
    "um = process_mean_max_min(consume, um, ['User_id', 'Merchant_id'], 'Duration', 'um', 8)"
   ]
  },
  {
   "cell_type": "code",
   "execution_count": 95,
   "metadata": {},
   "outputs": [],
   "source": [
    "t = feature_alpha_offline[feature_alpha_offline.Coupon_id == feature_alpha_offline.Coupon_id]\n",
    "t = t.groupby(['User_id', 'Merchant_id']).size().reset_index()\n",
    "t = t.groupby('User_id').size()\n",
    "um = pd.merge(um, groupby2df(t, 'um16'), on=['User_id'], how='left')"
   ]
  },
  {
   "cell_type": "code",
   "execution_count": 96,
   "metadata": {},
   "outputs": [],
   "source": [
    "um = get_unique_size(feature_alpha_offline, um, ['User_id', 'Merchant_id'], ['User_id'], 'um15')"
   ]
  },
  {
   "cell_type": "code",
   "execution_count": 97,
   "metadata": {},
   "outputs": [],
   "source": [
    "um['um17']= um.um15 / um.um16"
   ]
  },
  {
   "cell_type": "code",
   "execution_count": 98,
   "metadata": {},
   "outputs": [],
   "source": [
    "dataset = pd.merge(dataset, um, on=['User_id', 'Merchant_id'], how='left')"
   ]
  },
  {
   "cell_type": "markdown",
   "metadata": {},
   "source": [
    "+ **特征um11**:不同merchant_id,用户15天内消费优惠券的核销率\n",
    "+ **特征um12**:不同merchant_id,用户消费优惠券的核销率"
   ]
  },
  {
   "cell_type": "code",
   "execution_count": 99,
   "metadata": {},
   "outputs": [],
   "source": [
    "dataset['um11'] = dataset['um3'] / dataset['u1']\n",
    "dataset['um12'] = dataset['um2'] / dataset['u1']"
   ]
  },
  {
   "cell_type": "markdown",
   "metadata": {},
   "source": [
    "+ **特征um13**:不同merchant_id,用户15天内消费优惠券在15天内平均核销数\n",
    "+ **特征um14**:不同merchant_id,用户消费优惠券在15天内平均核销数"
   ]
  },
  {
   "cell_type": "code",
   "execution_count": 100,
   "metadata": {},
   "outputs": [],
   "source": [
    "dataset['um13'] = dataset['um3'] / 15\n",
    "dataset['um14'] = dataset['um2'] / 15"
   ]
  },
  {
   "cell_type": "markdown",
   "metadata": {},
   "source": [
    "### 商户特征"
   ]
  },
  {
   "cell_type": "code",
   "execution_count": 101,
   "metadata": {},
   "outputs": [],
   "source": [
    "m = feature_alpha_offline[feature_alpha_offline['Coupon_id']>0][['Merchant_id']].drop_duplicates()"
   ]
  },
  {
   "cell_type": "code",
   "execution_count": 102,
   "metadata": {},
   "outputs": [],
   "source": [
    "m = get_count(m, ['Merchant_id'], 'm')"
   ]
  },
  {
   "cell_type": "code",
   "execution_count": 103,
   "metadata": {},
   "outputs": [],
   "source": [
    "m = process_mean_max_min(consume, m, ['Merchant_id'], 'Duration', 'm', 8)"
   ]
  },
  {
   "cell_type": "code",
   "execution_count": 104,
   "metadata": {},
   "outputs": [],
   "source": [
    "m = get_unique_size(consume, m, ['Merchant_id', 'User_id'], ['Merchant_id'], 'm11')\n",
    "m = get_unique_size(use, m, ['Merchant_id', 'User_id'], ['Merchant_id'], 'm12')"
   ]
  },
  {
   "cell_type": "code",
   "execution_count": 105,
   "metadata": {},
   "outputs": [],
   "source": [
    "m['m13'] = m['m2'] / m['m11']\n",
    "m['m14'] = m['m3'] / m['m12']"
   ]
  },
  {
   "cell_type": "code",
   "execution_count": 106,
   "metadata": {},
   "outputs": [],
   "source": [
    "dataset = pd.merge(dataset, m, on=['Merchant_id'], how='left')"
   ]
  },
  {
   "cell_type": "markdown",
   "metadata": {},
   "source": [
    "### 优惠券特征"
   ]
  },
  {
   "cell_type": "code",
   "execution_count": 107,
   "metadata": {},
   "outputs": [],
   "source": [
    "c = feature_alpha_offline[feature_alpha_offline['Coupon_id']>0][['Coupon_id']].drop_duplicates()"
   ]
  },
  {
   "cell_type": "code",
   "execution_count": 108,
   "metadata": {},
   "outputs": [],
   "source": [
    "c = get_count(c, ['Coupon_id'], 'c')"
   ]
  },
  {
   "cell_type": "code",
   "execution_count": 109,
   "metadata": {},
   "outputs": [],
   "source": [
    "c = process_mean_max_min(consume, c, ['Coupon_id'], 'Duration', 'c', 8)"
   ]
  },
  {
   "cell_type": "code",
   "execution_count": 110,
   "metadata": {},
   "outputs": [],
   "source": [
    "c = get_unique_size(consume, c, ['Coupon_id', 'User_id'], ['Coupon_id'], 'c11')\n",
    "c = get_unique_size(use, c, ['Coupon_id', 'User_id'], ['Coupon_id'], 'c12')"
   ]
  },
  {
   "cell_type": "code",
   "execution_count": 111,
   "metadata": {},
   "outputs": [],
   "source": [
    "c['c13'] = c['c2'] / c['c11']\n",
    "c['c14'] = c['c3'] / c['c12']"
   ]
  },
  {
   "cell_type": "code",
   "execution_count": 112,
   "metadata": {},
   "outputs": [],
   "source": [
    "dataset = pd.merge(dataset, c, on=['Coupon_id'], how='left')"
   ]
  },
  {
   "cell_type": "code",
   "execution_count": 113,
   "metadata": {},
   "outputs": [],
   "source": [
    "cd = feature_alpha_offline[feature_alpha_offline['Coupon_id']>0][['Coupon_id', 'Date_received']].drop_duplicates()"
   ]
  },
  {
   "cell_type": "code",
   "execution_count": 114,
   "metadata": {},
   "outputs": [],
   "source": [
    "cd = get_count(cd, ['Coupon_id', 'Date_received'], 'cd')"
   ]
  },
  {
   "cell_type": "code",
   "execution_count": 115,
   "metadata": {},
   "outputs": [],
   "source": [
    "dataset = pd.merge(dataset, cd, on=['Coupon_id', 'Date_received'], how='left')"
   ]
  },
  {
   "cell_type": "markdown",
   "metadata": {},
   "source": [
    "### 优惠券分类特征"
   ]
  },
  {
   "cell_type": "code",
   "execution_count": 116,
   "metadata": {},
   "outputs": [],
   "source": [
    "dr = feature_alpha_offline[feature_alpha_offline['Coupon_id']>0][['Discount_rate']].drop_duplicates()"
   ]
  },
  {
   "cell_type": "code",
   "execution_count": 117,
   "metadata": {},
   "outputs": [],
   "source": [
    "dr = get_count(dr, ['Discount_rate'], 'dr')"
   ]
  },
  {
   "cell_type": "code",
   "execution_count": 118,
   "metadata": {},
   "outputs": [],
   "source": [
    "dataset = pd.merge(dataset, dr, on=['Discount_rate'], how='left')"
   ]
  },
  {
   "cell_type": "markdown",
   "metadata": {},
   "source": [
    "### 线上用户特征"
   ]
  },
  {
   "cell_type": "code",
   "execution_count": 119,
   "metadata": {},
   "outputs": [],
   "source": [
    "ou = feature_alpha_online[['User_id']].drop_duplicates()\n",
    "\n",
    "t = feature_alpha_online.groupby(['User_id']).size()\n",
    "ou = pd.merge(ou, groupby2df(t, 'ou1'), on=['User_id'], how='left')\n",
    "\n",
    "t = feature_alpha_online[feature_alpha_online.Action == 0].groupby(['User_id']).size()\n",
    "ou = pd.merge(ou, groupby2df(t, 'ou2'), on=['User_id'], how='left')\n",
    "\n",
    "t = feature_alpha_online[feature_alpha_online.Action == 1].groupby(['User_id']).size()\n",
    "ou = pd.merge(ou, groupby2df(t, 'ou3'), on=['User_id'], how='left')\n",
    "\n",
    "t = feature_alpha_online[feature_alpha_online.Action == 2].groupby(['User_id']).size()\n",
    "ou = pd.merge(ou, groupby2df(t, 'ou4'), on=['User_id'], how='left')"
   ]
  },
  {
   "cell_type": "code",
   "execution_count": 120,
   "metadata": {},
   "outputs": [],
   "source": [
    "dataset = pd.merge(dataset, ou, on=['User_id'], how='left')"
   ]
  },
  {
   "cell_type": "markdown",
   "metadata": {},
   "source": [
    "## 构造特征选择器"
   ]
  },
  {
   "cell_type": "code",
   "execution_count": 121,
   "metadata": {},
   "outputs": [
    {
     "data": {
      "text/plain": [
       "193"
      ]
     },
     "execution_count": 121,
     "metadata": {},
     "output_type": "execute_result"
    }
   ],
   "source": [
    "len(dataset.columns.values)"
   ]
  },
  {
   "cell_type": "code",
   "execution_count": 128,
   "metadata": {},
   "outputs": [
    {
     "data": {
      "text/plain": [
       "array(['User_id', 'Merchant_id', 'Coupon_id', 'Discount_rate', 'Distance',\n",
       "       'Date_received', 'Month_of_received', 'Day_of_received',\n",
       "       'Weekday_of_received', 'Base_consume', 'Discount',\n",
       "       'Discount_money', 'Coupon_type', 'Coupon_category',\n",
       "       'Previous_user_id', 'Previous_date_received', 'Next_user_id',\n",
       "       'Next_date_received', 'Previous_duration', 'Next_duration', 'o1',\n",
       "       'o2', 'o3', 'o4', 'o5', 'o6', 'o8', 'o7', 'o9', 'o10', 'o12',\n",
       "       'o14', 'o11', 'o13', 'o16', 'o15', 'o18', 'o19', 'o20', 'o21',\n",
       "       'o22', 'o23', 'o17', 'o24', 'o25', 'o26', 'o27', 'o28', 'o29',\n",
       "       'o30', 'o38', 'o31', 'o39', 'o40', 'o41', 'o42', 'o43', 'o32',\n",
       "       'o33', 'o34', 'o35', 'o36', 'o37', 'o44', 'u0', 'u1', 'u2', 'u3',\n",
       "       'u4', 'u5', 'u6', 'u7', 'u8', 'u9', 'u10', 'u11', 'u12', 'u13',\n",
       "       'u14', 'u15', 'u16', 'u17', 'u18', 'u19', 'u20', 'u21', 'u22',\n",
       "       'u23', 'u24', 'u25', 'ucc0', 'ucc1', 'ucc2', 'ucc3', 'ucc4',\n",
       "       'ucc5', 'ucc6', 'ucc7', 'ucc8', 'ucc9', 'ucc10', 'ucc11', 'ucc12',\n",
       "       'uc1', 'uc2', 'uc3', 'uc4', 'uc5', 'uc6', 'uc7', 'uc8', 'uc9',\n",
       "       'uc10', 'uc11', 'uc12', 'ud0', 'ud1', 'ud2', 'ud3', 'ud4', 'ud5',\n",
       "       'ud6', 'ud7', 'ud8', 'ud9', 'ud10', 'ud11', 'ud12', 'um0', 'um1',\n",
       "       'um2', 'um3', 'um4', 'um5', 'um6', 'um7', 'um8', 'um9', 'um10',\n",
       "       'um16', 'um15', 'um17', 'um11', 'um12', 'um13', 'um14', 'm0', 'm1',\n",
       "       'm2', 'm3', 'm4', 'm5', 'm6', 'm7', 'm8', 'm9', 'm10', 'm11',\n",
       "       'm12', 'm13', 'm14', 'c1', 'c2', 'c3', 'c4', 'c5', 'c6', 'c7',\n",
       "       'c8', 'c9', 'c10', 'c11', 'c12', 'c13', 'c14', 'cd1', 'cd2', 'cd3',\n",
       "       'cd4', 'cd5', 'cd6', 'cd7', 'dr1', 'dr2', 'dr3', 'dr4', 'dr5',\n",
       "       'dr6', 'dr7', 'ou1', 'ou2', 'ou3', 'ou4'], dtype=object)"
      ]
     },
     "execution_count": 128,
     "metadata": {},
     "output_type": "execute_result"
    }
   ],
   "source": [
    "dataset.columns.values"
   ]
  },
  {
   "cell_type": "code",
   "execution_count": 123,
   "metadata": {},
   "outputs": [],
   "source": [
    "dataset = dataset.replace([np.inf, -np.inf], np.nan)"
   ]
  },
  {
   "cell_type": "code",
   "execution_count": 124,
   "metadata": {},
   "outputs": [],
   "source": [
    "continous = [\n",
    "    'Distance','Coupon_id','Coupon_type', 'Coupon_category',\n",
    "    'Month_of_received', 'Day_of_received',\n",
    "       'Weekday_of_received', 'Base_consume', 'Discount',\n",
    "       'Discount_money', \n",
    "    'Previous_duration', 'Next_duration', 'o1',\n",
    "       'o2', 'o3', 'o4', 'o5', 'o6', 'o8', 'o7', 'o9', 'o10', 'o12',\n",
    "       'o14', 'o11', 'o13', 'o16', 'o15', 'o18', 'o19', 'o20', 'o21',\n",
    "       'o22', 'o23', 'o17', 'o24', 'o25', 'o26', 'o27', 'o28', 'o29',\n",
    "       'o30', 'o38', 'o31', 'o39', 'o40', 'o41', 'o42', 'o43', 'o32',\n",
    "       'o33', 'o34', 'o35', 'o36', 'o37', 'o44', \n",
    "       'u0', 'u1', 'u2', 'u3', 'u4', 'u5', 'u6', 'u7', 'u8', 'u9', 'u10',\n",
    "       'u11', 'u12', 'u13', 'u14', 'u15', 'u16', 'u17', 'u18', 'u19',\n",
    "       'u20', 'u21', 'u22', 'u23', 'u24', 'u25', 'ucc0', 'ucc1', 'ucc2',\n",
    "       'ucc3', 'ucc4', 'ucc5', 'ucc6', 'ucc7', 'ucc8', 'ucc9', 'ucc10',\n",
    "       'ucc11', 'ucc12', 'uc1', 'uc2', 'uc3', 'uc4', 'uc5', 'uc6', 'uc7',\n",
    "       'uc8', 'uc9', 'uc10', 'uc11', 'uc12', 'ud0', 'ud1', 'ud2', 'ud3',\n",
    "       'ud4', 'ud5', 'ud6', 'ud7', 'ud8', 'ud9', 'ud10', 'ud11', 'ud12',\n",
    "       'um0', 'um1', 'um2', 'um3', 'um4', 'um5', 'um6', 'um7', 'um8',\n",
    "       'um9', 'um10', 'um16', 'um15', 'um17', 'um11', 'um12', 'um13', 'um14', 'm0',\n",
    "       'm1', 'm2', 'm3', 'm4', 'm5', 'm6', 'm7', 'm8', 'm9', 'm10', 'm11',\n",
    "       'm12', 'm13', 'm14', 'c1', 'c2', 'c3', 'c4', 'c5', 'c6', 'c7',\n",
    "       'c8', 'c9', 'c10', 'c11', 'c12', 'c13', 'c14', 'cd1', 'cd2', 'cd3',\n",
    "       'cd4', 'cd5', 'cd6', 'cd7', 'dr1', 'dr2', 'dr3', 'dr4', 'dr5',\n",
    "       'dr6', 'dr7', 'ou1', 'ou2', 'ou3', 'ou4']\n",
    "\n",
    "label = ['Label']"
   ]
  },
  {
   "cell_type": "code",
   "execution_count": 125,
   "metadata": {},
   "outputs": [],
   "source": [
    "if not IS_PRED:\n",
    "    feature_processor = Pipeline([\n",
    "        ('features', FeatureUnion([\n",
    "            ('continuous', Pipeline([\n",
    "                ('extract', ColumnSelector(continous)),\n",
    "                ('imputer', SimpleImputer(missing_values=np.nan, strategy='most_frequent')),\n",
    "    #             ('scale', MinMaxScaler(copy=True, feature_range=(0, 1))),\n",
    "                ('normalize', Normalizer())\n",
    "            ])),\n",
    "        ])),\n",
    "    #     ('sc4gbdt', StandardScaler()),\n",
    "    ])\n",
    "\n",
    "    feature_processor.fit(dataset, dataset['Label'].values.ravel())\n",
    "    selector_model = XGBClassifier(max_depth=3, n_estimators=20, random_state=0)\n",
    "    selector_model.fit(feature_processor.transform(dataset), dataset['Label'].values.ravel())\n",
    "\n",
    "    feature_selector = []\n",
    "    for index, value in enumerate(selector_model.feature_importances_):\n",
    "        if value > 0:\n",
    "            feature_selector.append((continous[index], value))\n",
    "\n",
    "    feature_selector"
   ]
  },
  {
   "cell_type": "markdown",
   "metadata": {},
   "source": [
    "## 保存数据"
   ]
  },
  {
   "cell_type": "code",
   "execution_count": 126,
   "metadata": {},
   "outputs": [],
   "source": [
    "dataset = dataset.replace([np.inf, -np.inf], np.nan)"
   ]
  },
  {
   "cell_type": "code",
   "execution_count": 127,
   "metadata": {},
   "outputs": [],
   "source": [
    "dataset.to_csv('../features/' + FILENAME + '.csv')"
   ]
  }
 ],
 "metadata": {
  "kernelspec": {
   "display_name": "Python 3",
   "language": "python",
   "name": "python3"
  },
  "language_info": {
   "codemirror_mode": {
    "name": "ipython",
    "version": 3
   },
   "file_extension": ".py",
   "mimetype": "text/x-python",
   "name": "python",
   "nbconvert_exporter": "python",
   "pygments_lexer": "ipython3",
   "version": "3.7.1"
  }
 },
 "nbformat": 4,
 "nbformat_minor": 2
}
