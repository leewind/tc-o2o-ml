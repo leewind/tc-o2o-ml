{
 "cells": [
  {
   "cell_type": "code",
   "execution_count": 14,
   "metadata": {},
   "outputs": [],
   "source": [
    "import numpy as np\n",
    "import pandas as pd\n",
    "import seaborn as sns\n",
    "import matplotlib.pyplot as plt\n",
    "import math\n",
    "\n",
    "from datetime import datetime\n",
    "from scipy import stats\n",
    "\n",
    "from sklearn.pipeline import Pipeline, FeatureUnion\n",
    "from sklearn.base import BaseEstimator, TransformerMixin\n",
    "from mlxtend.feature_selection import ColumnSelector\n",
    "from sklearn.preprocessing import OneHotEncoder,MinMaxScaler, Normalizer\n",
    "from sklearn.impute import SimpleImputer\n",
    "from sklearn.decomposition import PCA"
   ]
  },
  {
   "cell_type": "markdown",
   "metadata": {},
   "source": [
    "### 优惠券特征的提取\n",
    "\n",
    "+ 历史出现次数\n",
    "+ 历史核销次数\n",
    "+ 历史核销率\n",
    "+ 历史核销时间率\n",
    "+ 历史上用户领取该优惠券次数\n",
    "+ 历史上用户消费该优惠券次数\n",
    "+ 历史上用户对该优惠券的核销率"
   ]
  },
  {
   "cell_type": "code",
   "execution_count": 15,
   "metadata": {},
   "outputs": [],
   "source": [
    "base_features_df = pd.read_csv('../features/lcm_base_features.csv')"
   ]
  },
  {
   "cell_type": "code",
   "execution_count": 16,
   "metadata": {},
   "outputs": [
    {
     "name": "stdout",
     "output_type": "stream",
     "text": [
      "<class 'pandas.core.frame.DataFrame'>\n",
      "RangeIndex: 1754884 entries, 0 to 1754883\n",
      "Data columns (total 16 columns):\n",
      "User_id              int64\n",
      "Merchant_id          float64\n",
      "Coupon_id            float64\n",
      "Distance             float64\n",
      "Date_received        float64\n",
      "Is_in_day_consume    float64\n",
      "Discount             float64\n",
      "Base_consume         float64\n",
      "Discount_money       float64\n",
      "Day_in_month         float64\n",
      "Day_in_week          float64\n",
      "Month_in_year        float64\n",
      "Coupon_type          float64\n",
      "Offline_consume      float64\n",
      "Duration             float64\n",
      "Is_used_coupon       float64\n",
      "dtypes: float64(15), int64(1)\n",
      "memory usage: 214.2 MB\n"
     ]
    }
   ],
   "source": [
    "base_features_df.info()"
   ]
  },
  {
   "cell_type": "code",
   "execution_count": 27,
   "metadata": {},
   "outputs": [],
   "source": [
    "def is_debug_df(df, date=20160501, debug=True):\n",
    "    if debug:\n",
    "        return df[df['Date_received']<date]\n",
    "    else:\n",
    "        return df.copy()\n",
    "    \n",
    "df = is_debug_df(base_features_df, debug=True)\n",
    "df = df[df['Coupon_id'] > 0]"
   ]
  },
  {
   "cell_type": "code",
   "execution_count": 18,
   "metadata": {},
   "outputs": [],
   "source": [
    "def join(df, col, series, key):\n",
    "    return multi_join(df, col, series, [key])\n",
    "\n",
    "def multi_join(df, col, series, keys):\n",
    "    t = series.to_frame()\n",
    "    t.columns = [col]\n",
    "    \n",
    "    return pd.merge(df, t, on=keys, how='left')"
   ]
  },
  {
   "cell_type": "code",
   "execution_count": 19,
   "metadata": {},
   "outputs": [],
   "source": [
    "def receive_count(df, target, groupby, is_dup=True):\n",
    "    if is_dup:\n",
    "        return df[df['Date_received']>0][target].drop_duplicates().groupby(groupby).size()\n",
    "    else:\n",
    "        return df[df['Date_received']>0][target].groupby(groupby).size()\n",
    "\n",
    "def cousume_count(df, target, groupby, is_dup=True):\n",
    "    if is_dup:\n",
    "        return df[df['Offline_consume']>0][target].drop_duplicates().groupby(groupby).size()\n",
    "    else:\n",
    "        return df[df['Offline_consume']>0][target].groupby(groupby).size()\n",
    "\n",
    "def used_count(df, target, groupby, is_dup=True):\n",
    "    if is_dup:\n",
    "        return df[df['Is_in_day_consume']>0][target].drop_duplicates().groupby(groupby).size()\n",
    "    else:\n",
    "        return df[df['Is_in_day_consume']>0][target].groupby(groupby).size()\n",
    "\n",
    "def cal_user_used_coupon_rate(row):\n",
    "    return row.User_used_count/row.User_receive_count\n",
    "\n",
    "def cal_user_not_used_conpon_count(row):\n",
    "    return row.User_receive_count - row.User_used_count\n",
    "\n",
    "def extract_info(df, target, type, groupby, column_name, is_dup=True):\n",
    "    factory = {\n",
    "        'receive_type': receive_count,\n",
    "        'used_type': used_count\n",
    "    }\n",
    "    \n",
    "    target_df = df[groupby].drop_duplicates()\n",
    "    series = factory[type](df, target, groupby, is_dup)\n",
    "    \n",
    "    tdf = multi_join(target_df, column_name, series, groupby)\n",
    "    tdf = tdf.fillna(0)\n",
    "    \n",
    "#     mean = tdf[column_name].mean()\n",
    "#     tdf[column_name+'_occ'] = tdf[column_name] / mean\n",
    "    return tdf[groupby + [column_name,]]"
   ]
  },
  {
   "cell_type": "code",
   "execution_count": 20,
   "metadata": {},
   "outputs": [],
   "source": [
    "class GroupbyExtractor(TransformerMixin):\n",
    "    def __init__(self, fn, target, type, groupby, column_name):\n",
    "        self.fn = fn\n",
    "        self.target = target\n",
    "        self.type = type\n",
    "        self.groupby = groupby\n",
    "        self.column_name = column_name\n",
    "    \n",
    "    def fit(self, *args, **kwargs):\n",
    "        return self\n",
    "\n",
    "    def transform(self, X, **transform_params):\n",
    "        return self.fn(X, self.target, self.type, self.groupby, self.column_name)"
   ]
  },
  {
   "cell_type": "code",
   "execution_count": 21,
   "metadata": {},
   "outputs": [],
   "source": [
    "keys = ['Coupon_id']\n",
    "coupon_features_df = df[['Coupon_id']].drop_duplicates()\n",
    "\n",
    "coupon_features_df = pd.merge(coupon_features_df, extract_info(df, ['Coupon_id'], 'receive_type', keys, 'Coupon_receive_count', False), on=keys, how='left')\n",
    "coupon_features_df = pd.merge(coupon_features_df, extract_info(df, ['Coupon_id'], 'used_type', keys, 'Coupon_used_count', False), on=keys, how='left')\n",
    "coupon_features_df = pd.merge(coupon_features_df, extract_info(df, ['Coupon_id', 'User_id'], 'receive_type', keys, 'Coupon_diff_user_receive_count'), on=keys, how='left')\n",
    "coupon_features_df = pd.merge(coupon_features_df, extract_info(df, ['Coupon_id', 'User_id'], 'used_type', keys, 'Coupon_diff_user_used_count'), on=keys, how='left')\n",
    "\n",
    "for i in range(0, 12, 1):\n",
    "    \n",
    "    coupon_features_df = pd.merge(\n",
    "        coupon_features_df, \n",
    "        extract_info(\n",
    "            df[df['Distance'] == i], \n",
    "            ['Coupon_id', 'Distance'], \n",
    "            'receive_type', \n",
    "            keys, \n",
    "            'Coupon_receive_distance_%s_count' % (i),\n",
    "            False\n",
    "        ), \n",
    "        on=keys, how='left'\n",
    "    )\n",
    "    \n",
    "    coupon_features_df = pd.merge(\n",
    "        coupon_features_df, \n",
    "        extract_info(\n",
    "            df[df['Distance'] == i], \n",
    "            ['Coupon_id', 'Distance'], \n",
    "            'used_type', \n",
    "            keys, \n",
    "            'Coupon_used_distance_%s_count' % (i),\n",
    "            False\n",
    "        ), on=keys, how='left')\n",
    "    \n",
    "    coupon_features_df['Coupon_used_distance_%s_rate' % (i)] = coupon_features_df['Coupon_used_distance_%s_count' % (i)] / coupon_features_df['Coupon_used_count']\n",
    "\n",
    "coupon_features_df['Coupon_used_rate'] = coupon_features_df['Coupon_used_count'] / coupon_features_df['Coupon_receive_count']\n",
    "\n",
    "user_count = df['User_id'].unique().size\n",
    "coupon_features_df['Coupon_diff_user_receive_rate'] = coupon_features_df['Coupon_diff_user_receive_count'] / user_count\n",
    "coupon_features_df['Coupon_diff_user_used_rate'] = coupon_features_df['Coupon_diff_user_used_count'] / user_count\n",
    "\n",
    "coupon_features_df = coupon_features_df.fillna(0)\n",
    "\n",
    "# coupon_features_df['Coupon_used_rate_occ'] = coupon_features_df['Coupon_used_rate'] / coupon_features_df['Coupon_used_rate'].mean()"
   ]
  },
  {
   "cell_type": "code",
   "execution_count": 22,
   "metadata": {},
   "outputs": [],
   "source": [
    "t = base_features_df[['Coupon_id', 'Distance']].groupby('Coupon_id').agg(['mean', 'max', 'min'])\n",
    "t.columns = [\"_Coupon_\".join(x) for x in t.columns.ravel()]\n",
    "coupon_features_df = pd.merge(coupon_features_df, t, on=keys, how='left')"
   ]
  },
  {
   "cell_type": "code",
   "execution_count": 23,
   "metadata": {},
   "outputs": [
    {
     "name": "stdout",
     "output_type": "stream",
     "text": [
      "<class 'pandas.core.frame.DataFrame'>\n",
      "Int64Index: 9738 entries, 0 to 9737\n",
      "Data columns (total 47 columns):\n",
      "Coupon_id                           9738 non-null float64\n",
      "Coupon_receive_count                9738 non-null int64\n",
      "Coupon_used_count                   9738 non-null float64\n",
      "Coupon_diff_user_receive_count      9738 non-null int64\n",
      "Coupon_diff_user_used_count         9738 non-null float64\n",
      "Coupon_receive_distance_0_count     9738 non-null float64\n",
      "Coupon_used_distance_0_count        9738 non-null float64\n",
      "Coupon_used_distance_0_rate         9738 non-null float64\n",
      "Coupon_receive_distance_1_count     9738 non-null float64\n",
      "Coupon_used_distance_1_count        9738 non-null float64\n",
      "Coupon_used_distance_1_rate         9738 non-null float64\n",
      "Coupon_receive_distance_2_count     9738 non-null float64\n",
      "Coupon_used_distance_2_count        9738 non-null float64\n",
      "Coupon_used_distance_2_rate         9738 non-null float64\n",
      "Coupon_receive_distance_3_count     9738 non-null float64\n",
      "Coupon_used_distance_3_count        9738 non-null float64\n",
      "Coupon_used_distance_3_rate         9738 non-null float64\n",
      "Coupon_receive_distance_4_count     9738 non-null float64\n",
      "Coupon_used_distance_4_count        9738 non-null float64\n",
      "Coupon_used_distance_4_rate         9738 non-null float64\n",
      "Coupon_receive_distance_5_count     9738 non-null float64\n",
      "Coupon_used_distance_5_count        9738 non-null float64\n",
      "Coupon_used_distance_5_rate         9738 non-null float64\n",
      "Coupon_receive_distance_6_count     9738 non-null float64\n",
      "Coupon_used_distance_6_count        9738 non-null float64\n",
      "Coupon_used_distance_6_rate         9738 non-null float64\n",
      "Coupon_receive_distance_7_count     9738 non-null float64\n",
      "Coupon_used_distance_7_count        9738 non-null float64\n",
      "Coupon_used_distance_7_rate         9738 non-null float64\n",
      "Coupon_receive_distance_8_count     9738 non-null float64\n",
      "Coupon_used_distance_8_count        9738 non-null float64\n",
      "Coupon_used_distance_8_rate         9738 non-null float64\n",
      "Coupon_receive_distance_9_count     9738 non-null float64\n",
      "Coupon_used_distance_9_count        9738 non-null float64\n",
      "Coupon_used_distance_9_rate         9738 non-null float64\n",
      "Coupon_receive_distance_10_count    9738 non-null float64\n",
      "Coupon_used_distance_10_count       9738 non-null float64\n",
      "Coupon_used_distance_10_rate        9738 non-null float64\n",
      "Coupon_receive_distance_11_count    9738 non-null float64\n",
      "Coupon_used_distance_11_count       9738 non-null float64\n",
      "Coupon_used_distance_11_rate        9738 non-null float64\n",
      "Coupon_used_rate                    9738 non-null float64\n",
      "Coupon_diff_user_receive_rate       9738 non-null float64\n",
      "Coupon_diff_user_used_rate          9738 non-null float64\n",
      "Distance_Coupon_mean                9738 non-null float64\n",
      "Distance_Coupon_max                 9738 non-null float64\n",
      "Distance_Coupon_min                 9738 non-null float64\n",
      "dtypes: float64(45), int64(2)\n",
      "memory usage: 3.6 MB\n"
     ]
    }
   ],
   "source": [
    "coupon_features_df.info()"
   ]
  },
  {
   "cell_type": "code",
   "execution_count": 24,
   "metadata": {},
   "outputs": [
    {
     "data": {
      "text/plain": [
       "array(['Coupon_id', 'Coupon_receive_count', 'Coupon_used_count',\n",
       "       'Coupon_diff_user_receive_count', 'Coupon_diff_user_used_count',\n",
       "       'Coupon_receive_distance_0_count', 'Coupon_used_distance_0_count',\n",
       "       'Coupon_used_distance_0_rate', 'Coupon_receive_distance_1_count',\n",
       "       'Coupon_used_distance_1_count', 'Coupon_used_distance_1_rate',\n",
       "       'Coupon_receive_distance_2_count', 'Coupon_used_distance_2_count',\n",
       "       'Coupon_used_distance_2_rate', 'Coupon_receive_distance_3_count',\n",
       "       'Coupon_used_distance_3_count', 'Coupon_used_distance_3_rate',\n",
       "       'Coupon_receive_distance_4_count', 'Coupon_used_distance_4_count',\n",
       "       'Coupon_used_distance_4_rate', 'Coupon_receive_distance_5_count',\n",
       "       'Coupon_used_distance_5_count', 'Coupon_used_distance_5_rate',\n",
       "       'Coupon_receive_distance_6_count', 'Coupon_used_distance_6_count',\n",
       "       'Coupon_used_distance_6_rate', 'Coupon_receive_distance_7_count',\n",
       "       'Coupon_used_distance_7_count', 'Coupon_used_distance_7_rate',\n",
       "       'Coupon_receive_distance_8_count', 'Coupon_used_distance_8_count',\n",
       "       'Coupon_used_distance_8_rate', 'Coupon_receive_distance_9_count',\n",
       "       'Coupon_used_distance_9_count', 'Coupon_used_distance_9_rate',\n",
       "       'Coupon_receive_distance_10_count',\n",
       "       'Coupon_used_distance_10_count', 'Coupon_used_distance_10_rate',\n",
       "       'Coupon_receive_distance_11_count',\n",
       "       'Coupon_used_distance_11_count', 'Coupon_used_distance_11_rate',\n",
       "       'Coupon_used_rate', 'Coupon_diff_user_receive_rate',\n",
       "       'Coupon_diff_user_used_rate', 'Distance_Coupon_mean',\n",
       "       'Distance_Coupon_max', 'Distance_Coupon_min'], dtype=object)"
      ]
     },
     "execution_count": 24,
     "metadata": {},
     "output_type": "execute_result"
    }
   ],
   "source": [
    "coupon_features_df.columns.values"
   ]
  },
  {
   "cell_type": "code",
   "execution_count": 25,
   "metadata": {},
   "outputs": [],
   "source": [
    "coupon_features_df.to_csv('../features/lcm_coupon_features.csv', index=False, header=True)"
   ]
  },
  {
   "cell_type": "markdown",
   "metadata": {},
   "source": [
    "## 数据分析"
   ]
  },
  {
   "cell_type": "code",
   "execution_count": 26,
   "metadata": {},
   "outputs": [
    {
     "data": {
      "image/png": "[encoded data removed]",
      "text/plain": [
       "<Figure size 360x360 with 1 Axes>"
      ]
     },
     "metadata": {},
     "output_type": "display_data"
    }
   ],
   "source": [
    "import numpy as np\n",
    "import pandas as pd\n",
    "import matplotlib.pyplot as plt\n",
    "import seaborn as sns\n",
    "sns.set(style=\"darkgrid\")\n",
    "\n",
    "tdf = pd.read_csv('../features/lcm_coupon_features.csv')\n",
    "tdf = tdf.drop(['Coupon_id'], axis=1)\n",
    "\n",
    "ipipe = Pipeline([\n",
    "    ('pca', PCA(n_components=2)),\n",
    "    ('scale', MinMaxScaler()),\n",
    "])\n",
    "\n",
    "ipipe.fit(tdf)\n",
    "output = ipipe.transform(tdf)\n",
    "output_df = pd.DataFrame(data=output, columns=['x', 'y'])\n",
    "\n",
    "sns.relplot(x=\"x\", y=\"y\", data=output_df);"
   ]
  },
  {
   "cell_type": "code",
   "execution_count": null,
   "metadata": {},
   "outputs": [],
   "source": []
  }
 ],
 "metadata": {
  "kernelspec": {
   "display_name": "Python 3",
   "language": "python",
   "name": "python3"
  },
  "language_info": {
   "codemirror_mode": {
    "name": "ipython",
    "version": 3
   },
   "file_extension": ".py",
   "mimetype": "text/x-python",
   "name": "python",
   "nbconvert_exporter": "python",
   "pygments_lexer": "ipython3",
   "version": "3.7.1"
  }
 },
 "nbformat": 4,
 "nbformat_minor": 2
}
